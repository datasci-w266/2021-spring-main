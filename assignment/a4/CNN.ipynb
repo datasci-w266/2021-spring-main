{
  "cells": [
    {
      "cell_type": "markdown",
      "metadata": {},
      "source": [
        "# Convolutional Neural Networks\n",
        "\n",
        "This notebook introduces convolutional neural networks (CNNs), a more powerful classification model similar to the Neural Bag-of-Words (BOW) model you explored earlier.\n",
        "\n",
        "## Outline\n",
        "\n",
        "- **Part (a):** Model Architecture\n",
        "- **Part (b):** Implementing the CNN Model\n",
        "- **Part (c):** Tuning"
      ]
    },
    {
      "cell_type": "code",
      "execution_count": 1,
      "metadata": {},
      "outputs": [],
      "source": [
        "from __future__ import division\n",
        "import os, sys, re, json, time, datetime, shutil\n",
        "import itertools, collections\n",
        "from importlib import reload\n",
        "from IPython.display import display, HTML\n",
        "\n",
        "# NLTK for NLP utils and corpora\n",
        "import nltk\n",
        "\n",
        "# NumPy and TensorFlow\n",
        "import numpy as np\n",
        "import pandas as pd\n",
        "import tensorflow as tf\n",
        "from tensorflow import keras\n",
        "\n",
        "# Helper libraries\n",
        "from w266_common import utils, vocabulary, tf_embed_viz, treeviz\n",
        "from w266_common import patched_numpy_io\n",
        "# Code for this assignment\n",
        "import sst\n",
        "\n",
        "# Monkey-patch NLTK with better Tree display that works on Cloud or other display-less server.\n",
        "print(\"Overriding nltk.tree.Tree pretty-printing to use custom GraphViz.\")\n",
        "treeviz.monkey_patch(nltk.tree.Tree, node_style_fn=sst.sst_node_style, format='svg')"
      ]
    },
    {
      "cell_type": "markdown",
      "metadata": {},
      "source": [
        "## (a) Model Architecture\n",
        "\n",
        "CNNs are a more sophisticated neural model for sentence classification than the Neural BOW model we saw in the last section. CNNs operate by sweeping a collection of filters over a text. Each filter produces a sequence of feature values known as a _feature map_. In one of the most basic formulations introduced by [Kim (2014)](https://www.aclweb.org/anthology/D14-1181), a single layer of _pooling_ is used to summarize the _feature maps_ as a fixed length vector. The fixed length vector is then feed to the output layer in order to produce classification labels. A popular choice for the pooling operation is to take the maximum feature value from by each _feature map_.\n",
        "\n",
        "![Convolutional Neural Network from Kim 2014](kim_2014_figure_1_cnn.png)\n",
        "*CNN model architure, Figure 1 from Kim (2014)*\n",
        "\n",
        "We'll use the following notation:\n",
        "- $h$: filter/kernel length (in words)\n",
        "- $w^{(i)} \\in \\mathbb{Z}$, the word id for the $i^{th}$ word of the sequence (as an integer index)\n",
        "- $x^{(i)} \\in \\mathbb{R}^d$ for the vector representation (embedding) of $w^{(i)}$\n",
        "- $x^{i:i+j}$ is the concatenation of $x^{(i)}, x^{(i+1)} ... x^{(i+j)}$ \n",
        "- $c^{(i)}_{k}$ is the value of the $k^{th}$ feature map at the $i^{th}$ position along the word sequence, each filter applies over a window of $h$ words and uses non-linearity $f$.\n",
        "- $c_k$ is one feature map (the $k_{th}$).  Its values are $c^{(0)}_{k}$, $c^{(1)}_{k}$, $c^{(2)}_{k}$, ...\n",
        "- $\\hat{c}_{k}$ is the value of the $k^{th}$ feature after pooling the feature map over the whole sequence.\n",
        "- $\\hat{C}$ is the concatenation of pooled feature maps. \n",
        "- $y$ for the target label ($\\in 1,\\ldots,\\mathtt{num\\_classes}$)\n",
        "\n",
        "Our model is defined as:\n",
        "- **Embedding layer:** $x^{(i)} = W_{embed}[w^{(i)}]$\n",
        "- **Convolutional layer:** $c^{(i)}_{k} = f(x^{i:i+h-1} W_k + b)$\n",
        "- **Pooling layer:**  $\\hat{c}_{k}$ = $max(c_k)$ = $max(c^{(0)}_{k}, c^{(1)}_{k}...)$ \n",
        "- **Output layer:** $\\hat{y} = \\hat{P}(y) = \\mathrm{softmax}(\\hat{C} W_{out} + b_{out})$\n",
        "\n",
        "\n",
        "We'll refer to the first part of this model (**Embedding layer**, **Convolutional layer**, and **Pooling layer**) as the **Encoder**: it has the role of encoding the input sequence into a fixed-length vector representation that we pass to the output layer.\n",
        "\n",
        "We'll also use these as shorthand for important dimensions:\n",
        "- `V`: the vocabulary size (equal to `ds.vocab.size`)\n",
        "- `N`: the maximum number of tokens in the input text\n",
        "- `embed_dim`: the embedding dimension $d$\n",
        "- `filters`: number filters per filter length\n",
        "- `num_classes`: the number of target classes (2 for the binary task)"
      ]
    },
    {
      "cell_type": "markdown",
      "metadata": {},
      "source": [
        "## (a) Short Answer Questions\n",
        "\n",
        "When answering these questions in the answers file,\n",
        "`embed_dim = 10`, `kernel_size = 3`, `filters=128`, `N=10` and `num_classes = 7`.  Assume a single example (no batching).\n",
        "\n",
        "1. In terms of these values, the vocabulary size `V` and the maximum sequence length `N`, what are the\n",
        "   shapes of the following variables: \n",
        "   $c^{(i)}_{k}$, $c_{k}$, $\\hat{c}_{k}$, and $\\hat{C}$. Assume a stride size of 1. Assume padding is not used (e.g., for tf.nn.max_pool and tf.nn.conv1d, setting padding='VALID'), provide the shapes listed above.\n",
        "<p>\n",
        "2. What are the shapes of $c_{k}$ and $\\hat{c}_{k}$ when padding is used.\n",
        "      (e.g., for tf.nn.max_pool and tf.nn.conv1d, setting padding='same').\n",
        "<p>\n",
        "3. How many parameters are in each of the convolutional filters, $W_{k}$?  What if the kernel size is 4? 5? And the output layer, $W_{out}$?\n",
        "<p>\n",
        "<p>\n",
        "4. Historically NLP models made heavy use of manual feature engineering. In relation to systems with manually engineered features, describe what type of operation is being performed by the convolutional filters.\n",
        "<p>\n",
        "5. Suppose that we have two examples, `[foo bar baz]` and `[baz bar foo]`.  Does this model definitely make the same predictions on these? Why or why not?"
      ]
    },
    {
      "cell_type": "markdown",
      "metadata": {},
      "source": [
        "## (b) Implementing the CNN Model\n",
        "\n",
        "We'll implement our CNN model below. Our implementation will differ from [Kim (2014)](https://www.aclweb.org/anthology/D14-1181) in that we will support using multiple dense hidden layers after the convolutional layers.\n",
        "\n",
        "**Before you start**, be sure to answer the short-answer questions above!"
      ]
    },
    {
      "cell_type": "code",
      "execution_count": 2,
      "metadata": {},
      "outputs": [],
      "source": [
        "import sst\n",
        "\n",
        "# Load SST dataset\n",
        "ds = sst.SSTDataset(V=20000).process(label_scheme=\"binary\")\n",
        "max_len = 40\n",
        "train_x, train_ns, train_y = ds.as_padded_array('train', max_len=max_len, root_only=True)\n",
        "dev_x,   dev_ns,   dev_y   = ds.as_padded_array('dev',   max_len=max_len, root_only=True)\n",
        "test_x,  test_ns,  test_y  = ds.as_padded_array('test',  max_len=max_len, root_only=True)\n"
      ]
    },
    {
      "cell_type": "code",
      "execution_count": 3,
      "metadata": {},
      "outputs": [],
      "source": [
        "# Specify model hyperparameters.\n",
        "epochs = 10\n",
        "embed_dim = 5\n",
        "num_filters = [2, 2, 2]\n",
        "kernel_sizes = [2, 3, 4]\n",
        "dense_layer_dims = []\n",
        "dropout_rate = 0.7\n",
        "num_classes = len(ds.target_names)\n",
        "\n",
        "# Construct the convolutional neural network.\n",
        "# The form of each keras layer function is as follows:\n",
        "#    result = keras.layers.LayerType(arguments for the layer)(layer(s) it should use as input)\n",
        "# concretely,\n",
        "#    this_layer_output = keras.layers.Dense(100, activation='relu')(prev_layer_vector)\n",
        "# performs this_layer_output = relu(prev_layer_vector x W + b) where W has 100 columns.\n",
        "\n",
        "# Input is a special \"layer\".  It defines a placeholder that will be overwritten by the training data.\n",
        "# In our case, we are accepting a list of wordids (padded out to max_len).\n",
        "wordids = keras.layers.Input(shape=(max_len,))\n",
        "\n",
        "# Embed the wordids.\n",
        "# Recall, this is just a mathematically equivalent operation to a linear layer and a one-hot\n",
        "h = keras.layers.Embedding(ds.vocab.size, embed_dim, input_length=max_len)(wordids)\n",
        "\n",
        "# Construct \"filters\" randomly initialized filters with dimension \"kernel_size\" for each size of filter we want.\n",
        "# With the default hyperparameters, we construct 2 filters each of size 2, 3, 4.  As in the image above, each filter\n",
        "# is wide enough to span the whole word embedding (this is why the convolution is \"1d\" as seen in the\n",
        "# function name below).\n",
        "conv_layers_for_all_kernel_sizes = []\n",
        "for kernel_size, filters in zip(kernel_sizes, num_filters):\n",
        "    conv_layer = keras.layers.Conv1D(filters=filters, kernel_size=kernel_size, activation='relu')(h)\n",
        "    conv_layer = keras.layers.GlobalMaxPooling1D()(conv_layer)\n",
        "    conv_layers_for_all_kernel_sizes.append(conv_layer)\n",
        "\n",
        "# Concat the feature maps from each different size.\n",
        "h = keras.layers.concatenate(conv_layers_for_all_kernel_sizes, axis=1)\n",
        "\n",
        "# Dropout can help with overfitting (improve generalization) by randomly 0-ing different subsets of values\n",
        "# in the vector.\n",
        "# See https://www.cs.toronto.edu/~hinton/absps/JMLRdropout.pdf for details.\n",
        "h = keras.layers.Dropout(rate=dropout_rate)(h)\n",
        "\n",
        "### YOUR CODE HERE\n",
        "# Add a fully connected layer for each dense layer dimension in dense_layer_dims.\n",
        "### END YOUR CODE\n",
        "\n",
        "prediction = keras.layers.Dense(num_classes, activation='softmax')(h)\n",
        "\n",
        "model = keras.Model(inputs=wordids, outputs=prediction)\n",
        "model.compile(optimizer='adam',\n",
        "              loss='sparse_categorical_crossentropy',  # From information theory notebooks.\n",
        "              metrics=['accuracy'])        # What metric to output as we train."
      ]
    },
    {
      "cell_type": "code",
      "execution_count": 4,
      "metadata": {},
      "outputs": [],
      "source": [
        "model.reset_states()\n",
        "model.fit(train_x, train_y, epochs=epochs)"
      ]
    },
    {
      "cell_type": "markdown",
      "metadata": {},
      "source": [
        "## Evaluation\n",
        "\n",
        "Call [evaluate](https://keras.io/models/model/#evaluate) on your model."
      ]
    },
    {
      "cell_type": "code",
      "execution_count": 5,
      "metadata": {},
      "outputs": [],
      "source": [
        "#### YOUR CODE HERE ####\n",
        "#### END(YOUR CODE) ####"
      ]
    },
    {
      "cell_type": "markdown",
      "metadata": {},
      "source": [
        "# Part (c): Tuning Your Model\n",
        "\n",
        "We'll once again want to optimize hyperparameters for our model to see if we can improve performance. The CNN model includes a number of new parameters that can significantly influence model performance.\n",
        "\n",
        "In this section, you will be asked to describe the new parameters as well as use them to attempt to improve the performance of your model.\n",
        "\n",
        "## Part (c) Short Answer Questions\n",
        "\n",
        "  1. Choose two parameters unique the CNN model, perform at least 10 runs with different combinations of values for these parameters, and then report the dev set results below. ***Hint: Consider wrapping the training code above in a for loop the examines the different values.***  To do this efficiently, you should consider [this paper](http://www.jmlr.org/papers/volume13/bergstra12a/bergstra12a.pdf) from Bergstra and Bengio.  [This blog post](https://blog.floydhub.com/guide-to-hyperparameters-search-for-deep-learning-models/) also has a less formal treatment of the same topic.\n",
        "  2. Describe any trends you see in experiments above (e.g., can you identify good ranges for the individual parameters; are there any interesting interactions?)\n",
        "  3. Pick the three best configurations according to the dev set and evaluate them on the test data. Is the ranking of the three best models the same on the dev and test sets?\n",
        "  4. What was the best accuracy you achieved on the test set?"
      ]
    },
    {
      "cell_type": "code",
      "execution_count": null,
      "metadata": {},
      "outputs": [],
      "source": []
    }
  ],
  "metadata": {
    "kernelspec": {
      "display_name": "Python 3",
      "language": "python",
      "name": "python3"
    },
    "language_info": {
      "codemirror_mode": {
        "name": "ipython",
        "version": 3
      },
      "file_extension": ".py",
      "mimetype": "text/x-python",
      "name": "python",
      "nbconvert_exporter": "python",
      "pygments_lexer": "ipython3",
      "version": "3.8.3"
    }
  },
  "nbformat": 4,
  "nbformat_minor": 2
}
