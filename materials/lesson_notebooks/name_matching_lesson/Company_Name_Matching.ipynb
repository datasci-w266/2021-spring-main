{
 "cells": [
  {
   "cell_type": "markdown",
   "metadata": {},
   "source": [
    "# NLP Application: Name Matching/Deduplication"
   ]
  },
  {
   "cell_type": "markdown",
   "metadata": {},
   "source": [
    "# Introduction"
   ]
  },
  {
   "cell_type": "markdown",
   "metadata": {},
   "source": [
    "The problem of merging multiple data records into a master record referring to a singular \"real-world\" entity comes with many names and flavors such as **data linkage, data matching, deduplication, entity resolution, record linkage, data matching, entity disambiguation, object consolidation**, etc. Applications vary from Amazon identifying wether two products are the same, consolidating patient health information, to detecting fraud. It tends to be a fundamental tool to normalizing data in order for it to be \"useful\". There are a range of approaches and topics on the subject and this will be a brief overview where we explore the topic through consolidating company names.\n",
    "\n",
    "Below is an image from \"Record Linkage: Current Practice and Future Directions\" (2003) by Gu et. al that outlines the general anatomy of a matching system. We will touch on each part but note that each block has multiple papers and approaches that vary based on application, domain, and other considerations."
   ]
  },
  {
   "attachments": {
    "Information-Flow-for-a-Record-Linkage-System.png": {
     "image/png": "[encoded data removed]"
    }
   },
   "cell_type": "markdown",
   "metadata": {},
   "source": [
    "![Information-Flow-for-a-Record-Linkage-System.png](attachment:Information-Flow-for-a-Record-Linkage-System.png)"
   ]
  },
  {
   "cell_type": "markdown",
   "metadata": {},
   "source": [
    "# Data"
   ]
  },
  {
   "cell_type": "markdown",
   "metadata": {},
   "source": [
    "The data is a snapshot of live companies registered in the UK along with some basic attributes such as address. It is provided by the [Companies House](https://en.wikipedia.org/wiki/Companies_House), which is a government body that maintains the company registers. The data was found here: http://download.companieshouse.gov.uk/en_output.html . [Uniqueness and accuracy](https://www.lexology.com/library/detail.aspx?g=f8d00606-4fb5-43e9-98df-ec896cd4da7d) are part of the expected attributes for such a registry though law has only given authority to fraud and identity check as of 2020. The data is part of their [services](https://www.gov.uk/government/organisations/companies-house/about-our-services#uri-info) in an effort to [\"maximise the value of the data held by member organisations, for longer term social and economic benefits\"](https://resources.companieshouse.gov.uk/infoAndGuide/faq/publicDataProduct.shtml). Other snapshots and bulk download/data options can be found in services hyperlink previously mentioned."
   ]
  },
  {
   "cell_type": "markdown",
   "metadata": {},
   "source": [
    "Below we acquire and inspect the data. Note that this proccess can be complicated by any number of factors from size of the entire set (say amount of websites tagged by Google) to the common issue of having multiple sources of data that don't immediately talk to one another. In this case, it's kept simple in being a single-source, readable file. Usually you want to spend a lot of the time familiarizing with the data to better architect the matching solution, especially in deciding how to preproccess. What's done below is a simple charicature of data analysis."
   ]
  },
  {
   "cell_type": "code",
   "execution_count": 2,
   "metadata": {},
   "outputs": [
    {
     "name": "stdout",
     "output_type": "stream",
     "text": [
      "--2021-01-19 13:25:32--  http://download.companieshouse.gov.uk/BasicCompanyDataAsOneFile-2021-01-01.zip\n",
      "Resolving download.companieshouse.gov.uk (download.companieshouse.gov.uk)... 194.75.36.68, 62.254.241.68\n",
      "Connecting to download.companieshouse.gov.uk (download.companieshouse.gov.uk)|194.75.36.68|:80... connected.\n",
      "HTTP request sent, awaiting response... 200 OK\n",
      "Length: 416798024 (397M) [application/zip]\n",
      "Saving to: ‘BasicCompanyDataAsOneFile-2021-01-01.zip’\n",
      "\n",
      "BasicCompanyDataAsO 100%[===================>] 397.49M  1.11MB/s    in 6m 18s  \n",
      "\n",
      "2021-01-19 13:31:51 (1.05 MB/s) - ‘BasicCompanyDataAsOneFile-2021-01-01.zip’ saved [416798024/416798024]\n",
      "\n"
     ]
    }
   ],
   "source": [
    "!wget http://download.companieshouse.gov.uk/BasicCompanyDataAsOneFile-2021-01-01.zip"
   ]
  },
  {
   "cell_type": "code",
   "execution_count": 5,
   "metadata": {},
   "outputs": [],
   "source": [
    "import zipfile\n",
    "with zipfile.ZipFile(\"BasicCompanyDataAsOneFile-2021-01-01.zip\",\"r\") as zip_ref:\n",
    "    zip_ref.extractall(\"company_data_sample\")"
   ]
  },
  {
   "cell_type": "code",
   "execution_count": 1,
   "metadata": {},
   "outputs": [
    {
     "name": "stderr",
     "output_type": "stream",
     "text": [
      "/Users/gurdit.chahal/anaconda3/lib/python3.7/site-packages/IPython/core/interactiveshell.py:3072: DtypeWarning: Columns (41,42,43,44,45,46,47,48,49,50,51,52) have mixed types. Specify dtype option on import or set low_memory=False.\n",
      "  interactivity=interactivity, compiler=compiler, result=result)\n"
     ]
    }
   ],
   "source": [
    "import pandas as pd\n",
    "pd.set_option('display.max_columns', 1000)\n",
    "df = pd.read_csv(\"~/company_data_sample/BasicCompanyDataAsOneFile-2021-01-01.csv\")"
   ]
  },
  {
   "cell_type": "code",
   "execution_count": 5,
   "metadata": {},
   "outputs": [
    {
     "data": {
      "text/plain": [
       "Index(['CompanyName', ' CompanyNumber', 'RegAddress.CareOf',\n",
       "       'RegAddress.POBox', 'RegAddress.AddressLine1',\n",
       "       ' RegAddress.AddressLine2', 'RegAddress.PostTown', 'RegAddress.County',\n",
       "       'RegAddress.Country', 'RegAddress.PostCode', 'CompanyCategory',\n",
       "       'CompanyStatus', 'CountryOfOrigin', 'DissolutionDate',\n",
       "       'IncorporationDate', 'Accounts.AccountRefDay',\n",
       "       'Accounts.AccountRefMonth', 'Accounts.NextDueDate',\n",
       "       'Accounts.LastMadeUpDate', 'Accounts.AccountCategory',\n",
       "       'Returns.NextDueDate', 'Returns.LastMadeUpDate',\n",
       "       'Mortgages.NumMortCharges', 'Mortgages.NumMortOutstanding',\n",
       "       'Mortgages.NumMortPartSatisfied', 'Mortgages.NumMortSatisfied',\n",
       "       'SICCode.SicText_1', 'SICCode.SicText_2', 'SICCode.SicText_3',\n",
       "       'SICCode.SicText_4', 'LimitedPartnerships.NumGenPartners',\n",
       "       'LimitedPartnerships.NumLimPartners', 'URI', 'PreviousName_1.CONDATE',\n",
       "       ' PreviousName_1.CompanyName', ' PreviousName_2.CONDATE',\n",
       "       ' PreviousName_2.CompanyName', 'PreviousName_3.CONDATE',\n",
       "       ' PreviousName_3.CompanyName', 'PreviousName_4.CONDATE',\n",
       "       ' PreviousName_4.CompanyName', 'PreviousName_5.CONDATE',\n",
       "       ' PreviousName_5.CompanyName', 'PreviousName_6.CONDATE',\n",
       "       ' PreviousName_6.CompanyName', 'PreviousName_7.CONDATE',\n",
       "       ' PreviousName_7.CompanyName', 'PreviousName_8.CONDATE',\n",
       "       ' PreviousName_8.CompanyName', 'PreviousName_9.CONDATE',\n",
       "       ' PreviousName_9.CompanyName', 'PreviousName_10.CONDATE',\n",
       "       ' PreviousName_10.CompanyName', 'ConfStmtNextDueDate',\n",
       "       ' ConfStmtLastMadeUpDate'],\n",
       "      dtype='object')"
      ]
     },
     "execution_count": 5,
     "metadata": {},
     "output_type": "execute_result"
    }
   ],
   "source": [
    "df.columns"
   ]
  },
  {
   "cell_type": "code",
   "execution_count": 6,
   "metadata": {},
   "outputs": [
    {
     "data": {
      "text/html": [
       "<div>\n",
       "<style scoped>\n",
       "    .dataframe tbody tr th:only-of-type {\n",
       "        vertical-align: middle;\n",
       "    }\n",
       "\n",
       "    .dataframe tbody tr th {\n",
       "        vertical-align: top;\n",
       "    }\n",
       "\n",
       "    .dataframe thead th {\n",
       "        text-align: right;\n",
       "    }\n",
       "</style>\n",
       "<table border=\"1\" class=\"dataframe\">\n",
       "  <thead>\n",
       "    <tr style=\"text-align: right;\">\n",
       "      <th></th>\n",
       "      <th>CompanyName</th>\n",
       "      <th>RegAddress.AddressLine1</th>\n",
       "      <th>RegAddress.AddressLine2</th>\n",
       "      <th>RegAddress.PostCode</th>\n",
       "    </tr>\n",
       "  </thead>\n",
       "  <tbody>\n",
       "    <tr>\n",
       "      <th>0</th>\n",
       "      <td>! LIMITED</td>\n",
       "      <td>UNIT 3 NEWTON BUSINESS CENTRE</td>\n",
       "      <td>NEWTON CHAMBERS ROAD</td>\n",
       "      <td>S35 2PH</td>\n",
       "    </tr>\n",
       "    <tr>\n",
       "      <th>1</th>\n",
       "      <td>! LTD</td>\n",
       "      <td>METROHOUSE 57 PEPPER ROAD</td>\n",
       "      <td>HUNSLET</td>\n",
       "      <td>LS10 2RU</td>\n",
       "    </tr>\n",
       "    <tr>\n",
       "      <th>2</th>\n",
       "      <td>!? LTD</td>\n",
       "      <td>THE STUDIO HATHERLOW HOUSE</td>\n",
       "      <td>HATHERLOW</td>\n",
       "      <td>SK6 3DY</td>\n",
       "    </tr>\n",
       "    <tr>\n",
       "      <th>3</th>\n",
       "      <td>!BIG IMPACT GRAPHICS LIMITED</td>\n",
       "      <td>372 OLD STREET</td>\n",
       "      <td>335 ROSDEN HOUSE</td>\n",
       "      <td>EC1V 9LT</td>\n",
       "    </tr>\n",
       "    <tr>\n",
       "      <th>4</th>\n",
       "      <td>!L PRODUCTIONS LIMITED</td>\n",
       "      <td>95 MARMION AVENUE</td>\n",
       "      <td>NaN</td>\n",
       "      <td>E4 8EJ</td>\n",
       "    </tr>\n",
       "    <tr>\n",
       "      <th>5</th>\n",
       "      <td>!NKED LTD</td>\n",
       "      <td>29 CORRY DRIVE</td>\n",
       "      <td>NaN</td>\n",
       "      <td>SW9 8QS</td>\n",
       "    </tr>\n",
       "    <tr>\n",
       "      <th>6</th>\n",
       "      <td>!NNOV8 LIMITED</td>\n",
       "      <td>OLD BARN FARM</td>\n",
       "      <td>HARTFIELD ROAD</td>\n",
       "      <td>TN8 5NF</td>\n",
       "    </tr>\n",
       "    <tr>\n",
       "      <th>7</th>\n",
       "      <td>!NSPIRED INVESTMENTS LTD</td>\n",
       "      <td>26 POLMUIR ROAD</td>\n",
       "      <td>NaN</td>\n",
       "      <td>AB11 7SY</td>\n",
       "    </tr>\n",
       "    <tr>\n",
       "      <th>8</th>\n",
       "      <td>!NSPIRED LTD</td>\n",
       "      <td>26 POLMUIR ROAD</td>\n",
       "      <td>NaN</td>\n",
       "      <td>AB11 7SY</td>\n",
       "    </tr>\n",
       "    <tr>\n",
       "      <th>9</th>\n",
       "      <td>!NVERTD DESIGNS LIMITED</td>\n",
       "      <td>10 PENNARD ROAD</td>\n",
       "      <td>NaN</td>\n",
       "      <td>W12 8DS</td>\n",
       "    </tr>\n",
       "    <tr>\n",
       "      <th>10</th>\n",
       "      <td>!OBAC LIMITED</td>\n",
       "      <td>1ST AND 2ND FLOORS ELIZABETH HOUSE</td>\n",
       "      <td>LES RUETIES BRAYES</td>\n",
       "      <td>GY1 1EW</td>\n",
       "    </tr>\n",
       "    <tr>\n",
       "      <th>11</th>\n",
       "      <td>!OBAC UK LIMITED</td>\n",
       "      <td>UNIT 9   BERRY COURT FARM BRAMLEY ROAD</td>\n",
       "      <td>LITTLE LONDON</td>\n",
       "      <td>RG26 5AT</td>\n",
       "    </tr>\n",
       "    <tr>\n",
       "      <th>12</th>\n",
       "      <td>!YOZO FASS LIMITED</td>\n",
       "      <td>1 VERONICA HOUSE</td>\n",
       "      <td>WICKHAM ROAD</td>\n",
       "      <td>SE4 1NQ</td>\n",
       "    </tr>\n",
       "    <tr>\n",
       "      <th>13</th>\n",
       "      <td>\"1 C O LIMITED\"</td>\n",
       "      <td>FANE COURT</td>\n",
       "      <td>GREEN ROAD SHIPBOURNE</td>\n",
       "      <td>TN11 9PL</td>\n",
       "    </tr>\n",
       "    <tr>\n",
       "      <th>14</th>\n",
       "      <td>\"1ST RATE\" PSYCHOLOGY SERVICES LTD</td>\n",
       "      <td>116 ALEXANDRA ROAD</td>\n",
       "      <td>NaN</td>\n",
       "      <td>SS3 0GW</td>\n",
       "    </tr>\n",
       "    <tr>\n",
       "      <th>15</th>\n",
       "      <td>\"2 ECOUTE\" LIMITED</td>\n",
       "      <td>38 PAXTON GARDENS</td>\n",
       "      <td>WOKING</td>\n",
       "      <td>GU21 5TS</td>\n",
       "    </tr>\n",
       "    <tr>\n",
       "      <th>16</th>\n",
       "      <td>\"20-20 VOICE\" CANCER</td>\n",
       "      <td>NaN</td>\n",
       "      <td>NaN</td>\n",
       "      <td>NaN</td>\n",
       "    </tr>\n",
       "    <tr>\n",
       "      <th>17</th>\n",
       "      <td>\"243 RUGBY ROAD MANAGEMENT COMPANY LIMITED\"</td>\n",
       "      <td>154 - 155 GREAT CHARLES STREET QUEENSWAY</td>\n",
       "      <td>NaN</td>\n",
       "      <td>B3 3LP</td>\n",
       "    </tr>\n",
       "    <tr>\n",
       "      <th>18</th>\n",
       "      <td>\"309\" WEST END LANE MANAGEMENT LIMITED</td>\n",
       "      <td>269 FARNBOROUGH ROAD</td>\n",
       "      <td>NaN</td>\n",
       "      <td>GU14 7LY</td>\n",
       "    </tr>\n",
       "    <tr>\n",
       "      <th>19</th>\n",
       "      <td>\"786\" MAZ OFFICE SUPPORT LIMITED</td>\n",
       "      <td>136 EMPRESS AVENUE</td>\n",
       "      <td>NaN</td>\n",
       "      <td>IG1 3DF</td>\n",
       "    </tr>\n",
       "  </tbody>\n",
       "</table>\n",
       "</div>"
      ],
      "text/plain": [
       "                                    CompanyName  \\\n",
       "0                                     ! LIMITED   \n",
       "1                                         ! LTD   \n",
       "2                                        !? LTD   \n",
       "3                  !BIG IMPACT GRAPHICS LIMITED   \n",
       "4                        !L PRODUCTIONS LIMITED   \n",
       "5                                     !NKED LTD   \n",
       "6                                !NNOV8 LIMITED   \n",
       "7                      !NSPIRED INVESTMENTS LTD   \n",
       "8                                  !NSPIRED LTD   \n",
       "9                       !NVERTD DESIGNS LIMITED   \n",
       "10                                !OBAC LIMITED   \n",
       "11                             !OBAC UK LIMITED   \n",
       "12                           !YOZO FASS LIMITED   \n",
       "13                              \"1 C O LIMITED\"   \n",
       "14           \"1ST RATE\" PSYCHOLOGY SERVICES LTD   \n",
       "15                           \"2 ECOUTE\" LIMITED   \n",
       "16                         \"20-20 VOICE\" CANCER   \n",
       "17  \"243 RUGBY ROAD MANAGEMENT COMPANY LIMITED\"   \n",
       "18       \"309\" WEST END LANE MANAGEMENT LIMITED   \n",
       "19             \"786\" MAZ OFFICE SUPPORT LIMITED   \n",
       "\n",
       "                     RegAddress.AddressLine1  RegAddress.AddressLine2  \\\n",
       "0              UNIT 3 NEWTON BUSINESS CENTRE     NEWTON CHAMBERS ROAD   \n",
       "1                  METROHOUSE 57 PEPPER ROAD                  HUNSLET   \n",
       "2                 THE STUDIO HATHERLOW HOUSE                HATHERLOW   \n",
       "3                             372 OLD STREET         335 ROSDEN HOUSE   \n",
       "4                          95 MARMION AVENUE                      NaN   \n",
       "5                             29 CORRY DRIVE                      NaN   \n",
       "6                              OLD BARN FARM           HARTFIELD ROAD   \n",
       "7                            26 POLMUIR ROAD                      NaN   \n",
       "8                            26 POLMUIR ROAD                      NaN   \n",
       "9                            10 PENNARD ROAD                      NaN   \n",
       "10        1ST AND 2ND FLOORS ELIZABETH HOUSE       LES RUETIES BRAYES   \n",
       "11    UNIT 9   BERRY COURT FARM BRAMLEY ROAD            LITTLE LONDON   \n",
       "12                          1 VERONICA HOUSE             WICKHAM ROAD   \n",
       "13                                FANE COURT    GREEN ROAD SHIPBOURNE   \n",
       "14                        116 ALEXANDRA ROAD                      NaN   \n",
       "15                         38 PAXTON GARDENS                   WOKING   \n",
       "16                                       NaN                      NaN   \n",
       "17  154 - 155 GREAT CHARLES STREET QUEENSWAY                      NaN   \n",
       "18                      269 FARNBOROUGH ROAD                      NaN   \n",
       "19                        136 EMPRESS AVENUE                      NaN   \n",
       "\n",
       "   RegAddress.PostCode  \n",
       "0              S35 2PH  \n",
       "1             LS10 2RU  \n",
       "2              SK6 3DY  \n",
       "3             EC1V 9LT  \n",
       "4               E4 8EJ  \n",
       "5              SW9 8QS  \n",
       "6              TN8 5NF  \n",
       "7             AB11 7SY  \n",
       "8             AB11 7SY  \n",
       "9              W12 8DS  \n",
       "10             GY1 1EW  \n",
       "11            RG26 5AT  \n",
       "12             SE4 1NQ  \n",
       "13            TN11 9PL  \n",
       "14             SS3 0GW  \n",
       "15            GU21 5TS  \n",
       "16                 NaN  \n",
       "17              B3 3LP  \n",
       "18            GU14 7LY  \n",
       "19             IG1 3DF  "
      ]
     },
     "execution_count": 6,
     "metadata": {},
     "output_type": "execute_result"
    }
   ],
   "source": [
    "df[['CompanyName','RegAddress.AddressLine1',\n",
    "       ' RegAddress.AddressLine2','RegAddress.PostCode']].head(20)"
   ]
  },
  {
   "cell_type": "code",
   "execution_count": 12,
   "metadata": {},
   "outputs": [
    {
     "data": {
      "text/plain": [
       "4837425"
      ]
     },
     "execution_count": 12,
     "metadata": {},
     "output_type": "execute_result"
    }
   ],
   "source": [
    "len(df)"
   ]
  },
  {
   "cell_type": "code",
   "execution_count": 29,
   "metadata": {},
   "outputs": [
    {
     "name": "stdout",
     "output_type": "stream",
     "text": [
      "['limited', 'ltd', 'services', '&', 'management', 'the', 'company', 'and', 'solutions', 'property', 'consulting', 'uk', 'group', 'ltd.', 'properties', 'holdings', 'consultancy', 'llp', 'investments', 'construction', 'developments', '(uk)', 'engineering', 'international', 'design', 'london', 'care', 'a', 'of', 'electrical']\n"
     ]
    }
   ],
   "source": [
    "from collections import Counter\n",
    "all_names = df['CompanyName'].apply(lambda name: name.lower()).values\n",
    "names_freq = Counter()\n",
    "for name in all_names:\n",
    "    names_freq.update(str(name).split(\" \"))\n",
    "key_words = [word for (word,_) in names_freq.most_common(30)]\n",
    "print(key_words)"
   ]
  },
  {
   "cell_type": "markdown",
   "metadata": {},
   "source": [
    "Since we're dealing with company names and not sentences or tweets, notice that we don't necessarily have the same expected distribution of \"stopwords\" , good to keep in mind how langauge and word distribution changes over domains."
   ]
  },
  {
   "cell_type": "code",
   "execution_count": 2,
   "metadata": {},
   "outputs": [
    {
     "data": {
      "text/plain": [
       "DEVON FUEL ASSOCIATES LTD. T/A SERVICETECH SOUTH WEST PARTNERSHIP    10\n",
       "FOXLEY COURT EQUESTRIAN                                               4\n",
       "JACK KAY & SONS                                                       3\n",
       "JAMES MCDOUGALL                                                       3\n",
       "BONSHAW FARMS                                                         3\n",
       "                                                                     ..\n",
       "LOMBARD INVESTMENTS LIMITED                                           1\n",
       "FARLEY CROFT MANAGEMENT COMPANY LIMITED                               1\n",
       "IDM DOORS LIMITED                                                     1\n",
       "FIRST GRAD EVENTS SERVICES LIMITED                                    1\n",
       "A.J SMARTCHOICE LTD                                                   1\n",
       "Name: CompanyName, Length: 4836627, dtype: int64"
      ]
     },
     "execution_count": 2,
     "metadata": {},
     "output_type": "execute_result"
    }
   ],
   "source": [
    "df['CompanyName'].value_counts()"
   ]
  },
  {
   "cell_type": "code",
   "execution_count": 16,
   "metadata": {},
   "outputs": [
    {
     "name": "stdout",
     "output_type": "stream",
     "text": [
      "776\n",
      "1574\n"
     ]
    }
   ],
   "source": [
    "deterministic=df['CompanyName'].value_counts()[df['CompanyName'].value_counts()>=2]\n",
    "print(len(deterministic))\n",
    "print(sum(deterministic))"
   ]
  },
  {
   "cell_type": "markdown",
   "metadata": {},
   "source": [
    "The simplest thing we can do is look for exact string matches/[deterministic matching](https://en.wikipedia.org/wiki/Record_linkage#Deterministic_record_linkage). We find 776 such groups with 1574 of the original rows."
   ]
  },
  {
   "cell_type": "markdown",
   "metadata": {},
   "source": [
    "# Indexing/Blocking"
   ]
  },
  {
   "cell_type": "markdown",
   "metadata": {},
   "source": [
    "We don't want to do $\\frac{n(n-1)}{2}$ comparasins as this can be very costly and slow. We Can think about ways to \"block\" chunks of potential pairs to reduce comparasin time. This is similar to the idea of doing a \"group by\" SQL or pandas operation before applying the comparasin function. Generally we either exploit data from other columns (e.g. block by city) or some knowledge particular to the strings involved (e.g. block by first character in string)."
   ]
  },
  {
   "cell_type": "code",
   "execution_count": 7,
   "metadata": {},
   "outputs": [
    {
     "data": {
      "text/plain": [
       "array(['!', '\"', '#', '$', '&', \"'\", '(', '*', '+', ',', '-', '.', '/',\n",
       "       '0', '1', '2', '3', '4', '5', '6', '7', '8', '9', ':', '<', '=',\n",
       "       '>', '?', '@', 'A', 'B', 'C', 'D', 'E', 'F', 'G', 'H', 'I', 'J',\n",
       "       'K', 'L', 'M', 'N', 'O', 'P', 'Q', 'R', 'S', 'T', 'U', 'V', 'W',\n",
       "       'X', 'Y', 'Z', '[', '\\\\', ']', 'e', 'h', 'l', 'm', '{', '£', '¥',\n",
       "       'À', 'Á', 'Â', 'Ä', 'Å', 'Æ', 'Ç', 'È', 'É', 'Ê', 'Ë', 'Ì', 'Ï',\n",
       "       'Ó', 'Ô', 'Õ', 'Ö', 'Ø', 'Ú', 'Ü', 'Ā', 'Č', 'Ē', 'Ģ', 'İ', 'Ō',\n",
       "       'Ś', 'Ŝ', 'Ş', 'Š', 'Ż', '‘', '“', '€'], dtype=object)"
      ]
     },
     "execution_count": 7,
     "metadata": {},
     "output_type": "execute_result"
    }
   ],
   "source": [
    "df['StartsWith']=df['CompanyName'].apply(lambda name: name[0])\n",
    "possible_starts=df['StartsWith'].unique()\n",
    "possible_starts"
   ]
  },
  {
   "cell_type": "code",
   "execution_count": 9,
   "metadata": {},
   "outputs": [
    {
     "data": {
      "text/plain": [
       "99"
      ]
     },
     "execution_count": 9,
     "metadata": {},
     "output_type": "execute_result"
    }
   ],
   "source": [
    "len(possible_starts)"
   ]
  },
  {
   "cell_type": "code",
   "execution_count": 8,
   "metadata": {},
   "outputs": [
    {
     "data": {
      "text/plain": [
       "S    442006\n",
       "A    384213\n",
       "C    373817\n",
       "T    331192\n",
       "M    331084\n",
       "      ...  \n",
       "Ï         1\n",
       "Ż         1\n",
       "m         1\n",
       "Č         1\n",
       "=         1\n",
       "Name: StartsWith, Length: 99, dtype: int64"
      ]
     },
     "execution_count": 8,
     "metadata": {},
     "output_type": "execute_result"
    }
   ],
   "source": [
    "df['StartsWith'].value_counts()"
   ]
  },
  {
   "cell_type": "code",
   "execution_count": 15,
   "metadata": {},
   "outputs": [
    {
     "name": "stdout",
     "output_type": "stream",
     "text": [
      "Number of total comparasins after blocking: 619935162594.0\n"
     ]
    }
   ],
   "source": [
    "nsq=df['StartsWith'].value_counts().apply(lambda x: x**2)\n",
    "n=df['StartsWith'].value_counts()\n",
    "print(\"Number of total comparasins after blocking:\",((nsq-n)/2).sum())"
   ]
  },
  {
   "cell_type": "code",
   "execution_count": 18,
   "metadata": {},
   "outputs": [
    {
     "name": "stdout",
     "output_type": "stream",
     "text": [
      "Original number of total comparasins: 11700337896600.0\n"
     ]
    }
   ],
   "source": [
    "print(\"Original number of total comparasins:\",(len(df)**2-len(df))/2)"
   ]
  },
  {
   "cell_type": "markdown",
   "metadata": {},
   "source": [
    "We note that simply blocking by first letter reduces number of comparasins roughly from and order of $10^{13}$ to an order of $10^{11}$ for total number of comparasins. Blocks can be further reduced with more complicated segmentation rules such as adding postal code restriction (e.g. must be physically in the same vicinity to be considered the same company). What's also important is that now that the blocks are independent in the sense that you can't match across a block, this allows for parallel compuation across machines to further reduce time spent. There are quite a few unexpected characters so need to consider preproccessing first. "
   ]
  },
  {
   "cell_type": "markdown",
   "metadata": {},
   "source": [
    "For more sophisticated methods some use a hashing scheme , some discretize after the record vectors have been created, while others stack a series of matching techniques that progress from simple and fast techniques down to accurate but computationally/time expensive matching techniques (more on matching below). A common one that makes use of what we've learned about the ngram vocabulary models, \"Q-gram based indexing\" where chunks of characters/words of the name are used to search for potentially related company names. In the context of search engines, this is commonly referred to a an \"inverted index\". See [this classic book on infomation retrieval for more](https://nlp.stanford.edu/IR-book/html/htmledition/a-first-take-at-building-an-inverted-index-1.html). A quick and dirty example using the first 1000 company names is shown below to give a more concrete idea."
   ]
  },
  {
   "cell_type": "code",
   "execution_count": 24,
   "metadata": {},
   "outputs": [],
   "source": [
    "import nltk\n",
    "from collections import defaultdict\n",
    "from nltk.tokenize import word_tokenize\n",
    "from nltk.stem import snowball\n",
    "stemmer = snowball.SnowballStemmer('english')"
   ]
  },
  {
   "cell_type": "code",
   "execution_count": 25,
   "metadata": {},
   "outputs": [
    {
     "data": {
      "text/plain": [
       "3000"
      ]
     },
     "execution_count": 25,
     "metadata": {},
     "output_type": "execute_result"
    }
   ],
   "source": [
    "companies= df['CompanyName'].head(1000).values\n",
    "# This will contain a list of all words in the companies\n",
    "corpus_words = []\n",
    "\n",
    "for c in companies:\n",
    "        word_tokens = word_tokenize(sent)\n",
    "        corpus_words += word_tokens\n",
    "\n",
    "len(corpus_words)"
   ]
  },
  {
   "cell_type": "code",
   "execution_count": 31,
   "metadata": {},
   "outputs": [
    {
     "data": {
      "text/plain": [
       "1511"
      ]
     },
     "execution_count": 31,
     "metadata": {},
     "output_type": "execute_result"
    }
   ],
   "source": [
    "inverted_index = defaultdict(set)\n",
    "\n",
    "# We maintain the reference to the document by its index in the companies list\n",
    "for docid, c in enumerate(companies):\n",
    "        for word in word_tokenize(c):\n",
    "            word_lower = word.lower()\n",
    "            # ignore words that are in our \"stopwords list\", the top frequent tokens computed previously\n",
    "            if word_lower not in key_words:\n",
    "                word_stem = stemmer.stem(word_lower)\n",
    "                # We add the company name to the set againt the word in our index\n",
    "                inverted_index[word_stem].add(docid)\n",
    "\n",
    "len(inverted_index.keys())"
   ]
  },
  {
   "cell_type": "code",
   "execution_count": 32,
   "metadata": {},
   "outputs": [],
   "source": [
    "def process_and_search(query):\n",
    "    matched_documents = set()\n",
    "    for word in word_tokenize(query):\n",
    "        word_lower = word.lower()\n",
    "        if word_lower not in key_words:\n",
    "            word_stem = stemmer.stem(word_lower)\n",
    "            matches = inverted_index.get(word_stem)\n",
    "            if matches:\n",
    "                matched_documents |= matches\n",
    "    return matched_documents"
   ]
  },
  {
   "cell_type": "code",
   "execution_count": 34,
   "metadata": {},
   "outputs": [
    {
     "data": {
      "text/plain": [
       "{44, 509}"
      ]
     },
     "execution_count": 34,
     "metadata": {},
     "output_type": "execute_result"
    }
   ],
   "source": [
    "process_and_search(\"investment\")"
   ]
  },
  {
   "cell_type": "code",
   "execution_count": 36,
   "metadata": {},
   "outputs": [
    {
     "name": "stdout",
     "output_type": "stream",
     "text": [
      "\"BEDE INVESTMENT PROPERTIES LIMITED\"\n",
      "(IBS) INTERNATIONAL INVESTMENT AND DEVELOPMENT BUSINESS LTD\n"
     ]
    }
   ],
   "source": [
    "print(companies[44])\n",
    "print(companies[509])"
   ]
  },
  {
   "cell_type": "code",
   "execution_count": 37,
   "metadata": {},
   "outputs": [
    {
     "data": {
      "text/plain": [
       "{44, 77, 446, 509}"
      ]
     },
     "execution_count": 37,
     "metadata": {},
     "output_type": "execute_result"
    }
   ],
   "source": [
    "process_and_search(\"investment fund\")"
   ]
  },
  {
   "cell_type": "code",
   "execution_count": 38,
   "metadata": {},
   "outputs": [
    {
     "name": "stdout",
     "output_type": "stream",
     "text": [
      "\"FIVE TOWNS PLUS\" HOSPICE FUND LIMITED(THE)\n",
      "'THE TRADES WIDOWS' FUND CHARITY\n"
     ]
    }
   ],
   "source": [
    "print(companies[77])\n",
    "print(companies[446])"
   ]
  },
  {
   "cell_type": "markdown",
   "metadata": {},
   "source": [
    "Note that this index doesn't rank relevant company names but does simple matching. One approach is to also weight these results by some sort of scoring, commonly the tf-idf of the documents/company names. Ranking/scoring can further reduce the number of eligible comparasins to make. This is a core idea to the popular [Lucene](https://lucene.apache.org/) and [Elasticsearch](https://www.elastic.co/what-is/elasticsearch) search engine tools."
   ]
  },
  {
   "cell_type": "markdown",
   "metadata": {},
   "source": [
    "# Preproccessing/Standardisation"
   ]
  },
  {
   "cell_type": "markdown",
   "metadata": {},
   "source": [
    "To maximize quality and validity of matches, standardizing is a natural step and often where domain expertise and creativity come into place. The major steps typically involve removing \"junk\" characters and words, expanding abbreviations/correcting misspellings, segmenting /discretizing attributes (e.g. breaking address down into street , postal code, and town), and verifying attributes used. Here we ignore the other fields besides the name for sake of simplicity and do a general preproccessing step to clean up the company names."
   ]
  },
  {
   "cell_type": "code",
   "execution_count": 2,
   "metadata": {},
   "outputs": [],
   "source": [
    "import string as pacString\n",
    "import re\n",
    "translationTable = str.maketrans(\"éàèùâêîôûçáäåæāëìïóõöøúüōśŝşšżčēģ\", \"eaeuaeioucaaaaaeiioooouuosssszceg\")\n",
    "punctuations = list(pacString.punctuation)\n",
    "\n",
    "#function for removing and standardizing punctuation\n",
    "def remove_punctuation(string, punctuations = list(pacString.punctuation)):\n",
    "    #string = string.replace('&', ' and ')\n",
    "    string = string.replace(',', ' ')\n",
    "    string = string.replace('-', ' ')\n",
    "    keep = [\"&\"]\n",
    "    punctuations = [p for p in punctuations if p not in keep]\n",
    "    rx = '[' + re.escape(''.join(punctuations)) + ']'\n",
    "    string = re.sub(rx, '', string) #remove the list of chars defined above\n",
    "    return string\n",
    "\n",
    "#find chunks/key word segments based on regex pattern and group based on pattern\n",
    "def find_key_words(string,pattern=None):\n",
    "    string = str(string)\n",
    "    if not(pattern):\n",
    "        pattern = r\"\\b[A-Za-z]{1,2}\\s*&\\s*[A-Za-z]{1,2}\\b\" #combine 1-2 letter standalone characters into single \n",
    "    combO = re.findall(pattern,string)\n",
    "    if len(combO)>0:\n",
    "        combN = [re.sub(r\"\\s\", \"\", c) for c in combO]\n",
    "        for i in range(len(combO)):\n",
    "            string = string.replace(combO[i], combN[i])\n",
    "    else:\n",
    "        combN = []\n",
    "    #print(comb)\n",
    "    return combN, string\n",
    "\n",
    "#clean/preproccess dataframe\n",
    "def clean_name(df,name_col):\n",
    "    df[name_col]=df[name_col].apply(lambda name: name.lower())\n",
    "    df[name_col]=df[name_col].apply(lambda name: remove_punctuation(name, punctuations))\n",
    "    df[name_col]=df[name_col].apply(lambda name: name.translate(translationTable))\n",
    "    df[name_col]=df[name_col].apply(lambda name: re.sub(r\"\\band\\b\", \"&\", name))\n",
    "    df[name_col]=df[name_col].apply(lambda name: find_key_words(name)[1])\n",
    "    df[name_col]=df[name_col].apply(lambda name: re.sub(' +',' ',name).strip())\n",
    "    df['StartsWith']=df[name_col].apply(lambda name: name[0])\n",
    "    return df"
   ]
  },
  {
   "cell_type": "code",
   "execution_count": 3,
   "metadata": {},
   "outputs": [
    {
     "data": {
      "text/plain": [
       "array(['l', 'b', 'n', 'o', 'y', '1', '2', '3', '7', 'a', '&', 'c', 'd',\n",
       "       'e', 'f', 'g', 'h', 'i', 'j', 'k', 'm', 'p', 'q', 'r', 's', 't',\n",
       "       'u', 'v', 'w', 'z', '4', '8', '0', '5', '6', '9', 'x', '£', '¥',\n",
       "       '‘', '“', '€'], dtype=object)"
      ]
     },
     "execution_count": 3,
     "metadata": {},
     "output_type": "execute_result"
    }
   ],
   "source": [
    "\n",
    "clean_df=clean_name(df,name_col='CompanyName')\n",
    "possible_starts=clean_df['StartsWith'].unique()\n",
    "possible_starts\n"
   ]
  },
  {
   "cell_type": "code",
   "execution_count": 23,
   "metadata": {},
   "outputs": [
    {
     "name": "stdout",
     "output_type": "stream",
     "text": [
      "1198\n",
      "2437\n"
     ]
    }
   ],
   "source": [
    "deterministic_clean=df['CompanyName'].value_counts()[df['CompanyName'].value_counts()>=2]\n",
    "print(len(deterministic_clean))\n",
    "print(sum(deterministic_clean))"
   ]
  },
  {
   "cell_type": "code",
   "execution_count": 35,
   "metadata": {},
   "outputs": [
    {
     "name": "stdout",
     "output_type": "stream",
     "text": [
      "422\n",
      "['kitchens uk limited', '87 limited', 'sohoco limited', 'slc consultancy ltd', 'clarke & co limited', 'mm transport ltd', 'cigna life insurance company of europe sa nv', 'you limited', 'alfheim ltd', 'abbey lumber uk limited']\n"
     ]
    }
   ],
   "source": [
    "deterministic=pd.DataFrame(deterministic)\n",
    "deterministic['cleaned']=deterministic.index\n",
    "deterministic=clean_name(deterministic,name_col='cleaned')\n",
    "new_additions=set(deterministic_clean.index)-set(deterministic['cleaned'])\n",
    "print(len(new_additions))\n",
    "print(list(new_additions)[:10])"
   ]
  },
  {
   "cell_type": "markdown",
   "metadata": {},
   "source": [
    "Just through some preproccessing we see how our valid match candidate space grows in the deterministic case. Deterministic matching is essentially the baseline algorithm and we will explore 'fuzzy' algorithms below."
   ]
  },
  {
   "cell_type": "markdown",
   "metadata": {},
   "source": [
    "# Comparison and Decision Model"
   ]
  },
  {
   "cell_type": "code",
   "execution_count": 87,
   "metadata": {
    "scrolled": true
   },
   "outputs": [
    {
     "name": "stdout",
     "output_type": "stream",
     "text": [
      "Requirement already satisfied: fuzzy in /Users/gurdit.chahal/anaconda3/lib/python3.7/site-packages (1.2.2)\n",
      "Note: you may need to restart the kernel to use updated packages.\n",
      "Requirement already satisfied: python-Levenshtein in /Users/gurdit.chahal/anaconda3/lib/python3.7/site-packages (0.12.0)\n",
      "Requirement already satisfied: setuptools in /Users/gurdit.chahal/anaconda3/lib/python3.7/site-packages (from python-Levenshtein) (53.0.0)\n",
      "Note: you may need to restart the kernel to use updated packages.\n",
      "Requirement already satisfied: gensim in /Users/gurdit.chahal/anaconda3/lib/python3.7/site-packages (3.8.3)\n",
      "Requirement already satisfied: smart-open>=1.8.1 in /Users/gurdit.chahal/anaconda3/lib/python3.7/site-packages (from gensim) (3.0.0)\n",
      "Requirement already satisfied: numpy>=1.11.3 in /Users/gurdit.chahal/anaconda3/lib/python3.7/site-packages (from gensim) (1.16.1)\n",
      "Requirement already satisfied: six>=1.5.0 in /Users/gurdit.chahal/anaconda3/lib/python3.7/site-packages (from gensim) (1.15.0)\n",
      "Requirement already satisfied: scipy>=0.18.1 in /Users/gurdit.chahal/anaconda3/lib/python3.7/site-packages (from gensim) (1.4.1)\n",
      "Requirement already satisfied: requests in /Users/gurdit.chahal/anaconda3/lib/python3.7/site-packages (from smart-open>=1.8.1->gensim) (2.25.1)\n",
      "Requirement already satisfied: urllib3<1.27,>=1.21.1 in /Users/gurdit.chahal/anaconda3/lib/python3.7/site-packages (from requests->smart-open>=1.8.1->gensim) (1.26.3)\n",
      "Requirement already satisfied: certifi>=2017.4.17 in /Users/gurdit.chahal/anaconda3/lib/python3.7/site-packages (from requests->smart-open>=1.8.1->gensim) (2020.12.5)\n",
      "Requirement already satisfied: idna<3,>=2.5 in /Users/gurdit.chahal/anaconda3/lib/python3.7/site-packages (from requests->smart-open>=1.8.1->gensim) (2.10)\n",
      "Requirement already satisfied: chardet<5,>=3.0.2 in /Users/gurdit.chahal/anaconda3/lib/python3.7/site-packages (from requests->smart-open>=1.8.1->gensim) (3.0.4)\n",
      "Note: you may need to restart the kernel to use updated packages.\n",
      "Requirement already satisfied: sklearn in /Users/gurdit.chahal/anaconda3/lib/python3.7/site-packages (0.0)\n",
      "Requirement already satisfied: scikit-learn in /Users/gurdit.chahal/anaconda3/lib/python3.7/site-packages (from sklearn) (0.23.2)\n",
      "Requirement already satisfied: joblib>=0.11 in /Users/gurdit.chahal/anaconda3/lib/python3.7/site-packages (from scikit-learn->sklearn) (0.17.0)\n",
      "Requirement already satisfied: numpy>=1.13.3 in /Users/gurdit.chahal/anaconda3/lib/python3.7/site-packages (from scikit-learn->sklearn) (1.16.1)\n",
      "Requirement already satisfied: threadpoolctl>=2.0.0 in /Users/gurdit.chahal/anaconda3/lib/python3.7/site-packages (from scikit-learn->sklearn) (2.1.0)\n",
      "Requirement already satisfied: scipy>=0.19.1 in /Users/gurdit.chahal/anaconda3/lib/python3.7/site-packages (from scikit-learn->sklearn) (1.4.1)\n",
      "Note: you may need to restart the kernel to use updated packages.\n"
     ]
    }
   ],
   "source": [
    "%pip install fuzzy\n",
    "%pip install python-Levenshtein\n",
    "%pip install gensim\n",
    "%pip install sklearn"
   ]
  },
  {
   "cell_type": "markdown",
   "metadata": {},
   "source": [
    "For actual comparasins and scorings to be done ,we will look at some traditional string-based methods beyond deterministic matching as well as a few vector-based methods. Specifically, we will look at:\n",
    "\n",
    "- [Soundex](https://www.archives.gov/research/census/soundex),\n",
    "\n",
    "- [Levenshtein Distance/Similarity](https://en.wikipedia.org/wiki/Levenshtein_distance),\n",
    "\n",
    "- [Jaccard Distance/Similarity](https://en.wikipedia.org/wiki/Jaccard_index),\n",
    "\n",
    "- [Cosine Distance/Similarity with Tf-Idf](https://en.wikipedia.org/wiki/Cosine_similarity),\n",
    "\n",
    "- [Word2Vec with Cosine](https://arxiv.org/abs/1301.3781)"
   ]
  },
  {
   "cell_type": "markdown",
   "metadata": {},
   "source": [
    "## Soundex\n",
    "\n",
    "The soundex algorithm essentially compares phonetics/sounds of words to attribute a measure of similarity. Essentially letters that sound the same like 'd' and 't' are encoded as the same integer and vowels (unless it's the first character) are dropped. More details can be found [here](https://en.wikipedia.org/wiki/Soundex) with exact implementations varying by library as the algorithm has evolved over time."
   ]
  },
  {
   "cell_type": "code",
   "execution_count": 35,
   "metadata": {},
   "outputs": [
    {
     "name": "stdout",
     "output_type": "stream",
     "text": [
      "A5252\n"
     ]
    }
   ],
   "source": [
    "import fuzzy\n",
    "soundex = fuzzy.Soundex(6)\n",
    "print(soundex('Amazon Co'))"
   ]
  },
  {
   "cell_type": "code",
   "execution_count": 17,
   "metadata": {},
   "outputs": [],
   "source": [
    "clean_df['Soundex']=clean_df['CompanyName'].apply(lambda name: soundex(name.encode('utf-8')))"
   ]
  },
  {
   "cell_type": "code",
   "execution_count": 18,
   "metadata": {},
   "outputs": [
    {
     "data": {
      "text/plain": [
       "Soundex\n",
       "A12112      1\n",
       "A12121     42\n",
       "A12122      1\n",
       "A12123     58\n",
       "A12124    210\n",
       "         ... \n",
       "Z65626      3\n",
       "Z65632      1\n",
       "Z65643      3\n",
       "Z65645      4\n",
       "Z65654      2\n",
       "Name: CompanyName, Length: 92861, dtype: int64"
      ]
     },
     "execution_count": 18,
     "metadata": {},
     "output_type": "execute_result"
    }
   ],
   "source": [
    "soundex_group=clean_df.groupby('Soundex')['CompanyName']\n",
    "soundex_group.count()"
   ]
  },
  {
   "cell_type": "code",
   "execution_count": 19,
   "metadata": {},
   "outputs": [
    {
     "data": {
      "text/plain": [
       "128036    abs seva\n",
       "Name: CompanyName, dtype: object"
      ]
     },
     "execution_count": 19,
     "metadata": {},
     "output_type": "execute_result"
    }
   ],
   "source": [
    "soundex_group.get_group('A12112')"
   ]
  },
  {
   "cell_type": "code",
   "execution_count": 20,
   "metadata": {},
   "outputs": [
    {
     "data": {
      "text/plain": [
       "86680                         a piece of cake events ltd\n",
       "86681                      a piece of cake foods limited\n",
       "90967                          a&a bespoke furniture ltd\n",
       "105169                             a2b cabs brackley ltd\n",
       "106775                            aa bespoke fitness ltd\n",
       "113579                ab wisbech property management ltd\n",
       "114180                  abacus back office solutions ltd\n",
       "114186              abacus book keeping scotland limited\n",
       "114187               abacus book keeping company limited\n",
       "114188         abacus bookkeeping & payroll services ltd\n",
       "114189                     abacus bookkeeping uk limited\n",
       "114190             abacus bookkeeping & accounts limited\n",
       "114191                 abacus bookkeeping consultant ltd\n",
       "114192                 abacus bookkeeping london limited\n",
       "114193               abacus bookkeeping services limited\n",
       "114194              abacus bookkeeping solutions limited\n",
       "118793                                abc bespoke qs ltd\n",
       "118809    abc book keeping & accounting services limited\n",
       "118810             abc bookkeeping & accountancy limited\n",
       "118811            abc bookkeeping & payroll services ltd\n",
       "118812              abc bookkeeping & accountancy uk ltd\n",
       "118822                            abc buchverlag limited\n",
       "119669                             abc vac sweep limited\n",
       "128135                                  absb express ltd\n",
       "187076                           afs passive systems ltd\n",
       "199727                          aibs bookkeeping limited\n",
       "202544                 aipcf vi software blocker limited\n",
       "325875                                 ap csip fp gp llp\n",
       "325876                                  ap csip gp 1 llp\n",
       "326105                         ap jc bespoke joinery ltd\n",
       "326813                apache pizza banbridge 786 limited\n",
       "329299                  apex passive fire protection ltd\n",
       "329303                           apex pe & sport limited\n",
       "329841                           apex vape & cbd limited\n",
       "330097                           apg bookkeeping limited\n",
       "331662                              apoc bespoke limited\n",
       "333092                                 app chop shop ltd\n",
       "337509             appscaff scaffolding services limited\n",
       "437416                 avcap specialty finance spv i ltd\n",
       "437417                avcap specialty finance spv ii ltd\n",
       "437427                          avci bookkeeping limited\n",
       "444091                           avspec aviation limited\n",
       "Name: CompanyName, dtype: object"
      ]
     },
     "execution_count": 20,
     "metadata": {},
     "output_type": "execute_result"
    }
   ],
   "source": [
    "soundex_group.get_group('A12121')"
   ]
  },
  {
   "cell_type": "code",
   "execution_count": 21,
   "metadata": {},
   "outputs": [
    {
     "data": {
      "text/plain": [
       "4824841    zero marine limited\n",
       "4825342    zerum renew limited\n",
       "Name: CompanyName, dtype: object"
      ]
     },
     "execution_count": 21,
     "metadata": {},
     "output_type": "execute_result"
    }
   ],
   "source": [
    "soundex_group.get_group('Z65654')"
   ]
  },
  {
   "cell_type": "code",
   "execution_count": 50,
   "metadata": {},
   "outputs": [
    {
     "data": {
      "text/plain": [
       "count    92859.000000\n",
       "mean        52.094304\n",
       "std         99.477147\n",
       "min          1.000000\n",
       "25%          6.000000\n",
       "50%         19.000000\n",
       "75%         57.000000\n",
       "max       4428.000000\n",
       "Name: CompanyName, dtype: float64"
      ]
     },
     "execution_count": 50,
     "metadata": {},
     "output_type": "execute_result"
    }
   ],
   "source": [
    "soundex_group.count().describe()"
   ]
  },
  {
   "cell_type": "markdown",
   "metadata": {},
   "source": [
    "A key observation is soundex has a high rate of fuzzy matches at the cost of a high false positives rate. We are also left to sorth through the $42^2$ possible matches. This is a typical tradeoff alongside speed in terms of this being a relatively fast algorithm. Although \"primitive\", this algorithm actually provides a solid way of blocking company names for slower, more sophisticated algorithms."
   ]
  },
  {
   "attachments": {
    "lev_formula.jpeg": {
     "image/jpeg": "[encoded data removed]"
    }
   },
   "cell_type": "markdown",
   "metadata": {},
   "source": [
    "## Levenshtein \n",
    "\n",
    "The Levenshtein algorithm is a classic \"spell-checking\" approach to name comparasins. Refer to the wiki/previous link for details but essentially you keep a score of edits needed to convert one string to another in the form of deleting,adding, or substituting characters. The formula is recursive in nature.\n",
    "\n",
    "![lev_formula.jpeg](attachment:lev_formula.jpeg)"
   ]
  },
  {
   "cell_type": "code",
   "execution_count": 31,
   "metadata": {},
   "outputs": [],
   "source": [
    "from Levenshtein import ratio as lev_ratio\n",
    "from Levenshtein import distance as lev_distance"
   ]
  },
  {
   "cell_type": "code",
   "execution_count": 34,
   "metadata": {},
   "outputs": [
    {
     "name": "stdout",
     "output_type": "stream",
     "text": [
      "3\n",
      "0.8\n",
      "1\n",
      "0.9090909090909091\n"
     ]
    }
   ],
   "source": [
    "print(lev_distance('Amazon','Amazon Co'))\n",
    "print(lev_ratio('Amazon','Amazon Co'))\n",
    "\n",
    "print(lev_distance('Amazon','Amazn'))\n",
    "print(lev_ratio('Amazon','Amazn'))"
   ]
  },
  {
   "attachments": {},
   "cell_type": "markdown",
   "metadata": {},
   "source": [
    "To get a normalized score rather than raw number of operations needed, we can normalize by the string lengths:\n",
    "\n",
    "# $\\frac{|a|+|b|-lev(a,b)}{|a|+|b|}$ \n",
    "\n",
    "Where $|a|$ and $|b|$ are the lengths of the respective strings a and b. Since Levenshtein would be prohibitively slow on our entire dataset. We grab one of the Soundex groups as a subset to test on."
   ]
  },
  {
   "cell_type": "code",
   "execution_count": 37,
   "metadata": {},
   "outputs": [],
   "source": [
    "test_group=soundex_group.get_group('A12121')"
   ]
  },
  {
   "cell_type": "code",
   "execution_count": 53,
   "metadata": {},
   "outputs": [],
   "source": [
    "from scipy.spatial.distance import pdist,squareform\n",
    "import numpy as np\n",
    "ratio_vectorize=np.vectorize(lev_ratio)"
   ]
  },
  {
   "cell_type": "code",
   "execution_count": 66,
   "metadata": {},
   "outputs": [
    {
     "name": "stdout",
     "output_type": "stream",
     "text": [
      "(42, 42)\n"
     ]
    },
    {
     "data": {
      "text/plain": [
       "array([0.        , 0.76363636, 0.50980392, 0.46808511, 0.54166667,\n",
       "       0.56666667, 0.51724138, 0.4516129 , 0.42622951, 0.47761194,\n",
       "       0.43636364, 0.44444444, 0.44067797, 0.40677966, 0.49180328,\n",
       "       0.4516129 , 0.54545455, 0.44444444, 0.41269841, 0.5       ,\n",
       "       0.41935484, 0.41666667, 0.46808511, 0.42857143, 0.48979592,\n",
       "       0.48      , 0.47457627, 0.37209302, 0.33333333, 0.50980392,\n",
       "       0.43333333, 0.51724138, 0.44897959, 0.44897959, 0.48979592,\n",
       "       0.47826087, 0.46511628, 0.50793651, 0.50847458, 0.5       ,\n",
       "       0.48      , 0.48979592])"
      ]
     },
     "execution_count": 66,
     "metadata": {},
     "output_type": "execute_result"
    }
   ],
   "source": [
    "ratio_matrix=squareform(pdist(test_group.values.reshape(-1,1).astype('str'),ratio_vectorize)) #calculate ratio between all pairs of names\n",
    "print(ratio_matrix.shape)\n",
    "ratio_matrix[0,:] #similarity between 'a piece of cake events ltd' and other companies"
   ]
  },
  {
   "cell_type": "code",
   "execution_count": 132,
   "metadata": {},
   "outputs": [
    {
     "data": {
      "text/html": [
       "<div>\n",
       "<style scoped>\n",
       "    .dataframe tbody tr th:only-of-type {\n",
       "        vertical-align: middle;\n",
       "    }\n",
       "\n",
       "    .dataframe tbody tr th {\n",
       "        vertical-align: top;\n",
       "    }\n",
       "\n",
       "    .dataframe thead th {\n",
       "        text-align: right;\n",
       "    }\n",
       "</style>\n",
       "<table border=\"1\" class=\"dataframe\">\n",
       "  <thead>\n",
       "    <tr style=\"text-align: right;\">\n",
       "      <th></th>\n",
       "      <th>name1</th>\n",
       "      <th>name2</th>\n",
       "      <th>similarity</th>\n",
       "    </tr>\n",
       "  </thead>\n",
       "  <tbody>\n",
       "    <tr>\n",
       "      <th>0</th>\n",
       "      <td>a piece of cake events ltd</td>\n",
       "      <td>a piece of cake foods limited</td>\n",
       "      <td>0.763636</td>\n",
       "    </tr>\n",
       "    <tr>\n",
       "      <th>1</th>\n",
       "      <td>a&amp;a bespoke furniture ltd</td>\n",
       "      <td>aa bespoke fitness ltd</td>\n",
       "      <td>0.808511</td>\n",
       "    </tr>\n",
       "    <tr>\n",
       "      <th>2</th>\n",
       "      <td>aa bespoke fitness ltd</td>\n",
       "      <td>abc bespoke qs ltd</td>\n",
       "      <td>0.750000</td>\n",
       "    </tr>\n",
       "    <tr>\n",
       "      <th>3</th>\n",
       "      <td>aa bespoke fitness ltd</td>\n",
       "      <td>ap jc bespoke joinery ltd</td>\n",
       "      <td>0.723404</td>\n",
       "    </tr>\n",
       "    <tr>\n",
       "      <th>4</th>\n",
       "      <td>abacus back office solutions ltd</td>\n",
       "      <td>abacus bookkeeping solutions limited</td>\n",
       "      <td>0.705882</td>\n",
       "    </tr>\n",
       "    <tr>\n",
       "      <th>...</th>\n",
       "      <td>...</td>\n",
       "      <td>...</td>\n",
       "      <td>...</td>\n",
       "    </tr>\n",
       "    <tr>\n",
       "      <th>83</th>\n",
       "      <td>aibs bookkeeping limited</td>\n",
       "      <td>avci bookkeeping limited</td>\n",
       "      <td>0.916667</td>\n",
       "    </tr>\n",
       "    <tr>\n",
       "      <th>84</th>\n",
       "      <td>ap csip fp gp llp</td>\n",
       "      <td>ap csip gp 1 llp</td>\n",
       "      <td>0.848485</td>\n",
       "    </tr>\n",
       "    <tr>\n",
       "      <th>85</th>\n",
       "      <td>apex pe &amp; sport limited</td>\n",
       "      <td>apex vape &amp; cbd limited</td>\n",
       "      <td>0.782609</td>\n",
       "    </tr>\n",
       "    <tr>\n",
       "      <th>86</th>\n",
       "      <td>apg bookkeeping limited</td>\n",
       "      <td>avci bookkeeping limited</td>\n",
       "      <td>0.893617</td>\n",
       "    </tr>\n",
       "    <tr>\n",
       "      <th>87</th>\n",
       "      <td>avcap specialty finance spv i ltd</td>\n",
       "      <td>avcap specialty finance spv ii ltd</td>\n",
       "      <td>0.985075</td>\n",
       "    </tr>\n",
       "  </tbody>\n",
       "</table>\n",
       "<p>88 rows × 3 columns</p>\n",
       "</div>"
      ],
      "text/plain": [
       "                                name1                                 name2  \\\n",
       "0          a piece of cake events ltd         a piece of cake foods limited   \n",
       "1           a&a bespoke furniture ltd                aa bespoke fitness ltd   \n",
       "2              aa bespoke fitness ltd                    abc bespoke qs ltd   \n",
       "3              aa bespoke fitness ltd             ap jc bespoke joinery ltd   \n",
       "4    abacus back office solutions ltd  abacus bookkeeping solutions limited   \n",
       "..                                ...                                   ...   \n",
       "83           aibs bookkeeping limited              avci bookkeeping limited   \n",
       "84                  ap csip fp gp llp                      ap csip gp 1 llp   \n",
       "85            apex pe & sport limited               apex vape & cbd limited   \n",
       "86            apg bookkeeping limited              avci bookkeeping limited   \n",
       "87  avcap specialty finance spv i ltd    avcap specialty finance spv ii ltd   \n",
       "\n",
       "    similarity  \n",
       "0     0.763636  \n",
       "1     0.808511  \n",
       "2     0.750000  \n",
       "3     0.723404  \n",
       "4     0.705882  \n",
       "..         ...  \n",
       "83    0.916667  \n",
       "84    0.848485  \n",
       "85    0.782609  \n",
       "86    0.893617  \n",
       "87    0.985075  \n",
       "\n",
       "[88 rows x 3 columns]"
      ]
     },
     "execution_count": 132,
     "metadata": {},
     "output_type": "execute_result"
    }
   ],
   "source": [
    "names=test_group.values\n",
    "rows,cols=np.where(ratio_matrix-np.tri(*ratio_matrix.shape)>=.7) #set threshold for which we accept the ratio\n",
    "sims=ratio_matrix[rows,cols]\n",
    "pd.DataFrame(zip(names[rows],names[cols],sims),columns=['name1','name2','similarity'])"
   ]
  },
  {
   "cell_type": "markdown",
   "metadata": {},
   "source": [
    "Here we see our search space has become much more tractable as we go from $\\frac{42^2*41}{2}=861$ possible pairs to manually sort through to 88. We see an advantage in terms of highly similar names have high matches with variation as in the first row. The downside to the method is that high scores are given to companies that are a few letters apart such as \"avci bookkeeping limited\" vs \"apg bookkeeping limited\". Although only a few letters apart, the difference is critical for company names. A similar example is names of people where \"Alex\" and \"Alexa\" might be seen as highly similar but for human context would likely be considered completely different names. "
   ]
  },
  {
   "cell_type": "markdown",
   "metadata": {},
   "source": [
    "## Jaccard "
   ]
  },
  {
   "attachments": {
    "jaccard_sim.png": {
     "image/png": "[encoded data removed]"
    }
   },
   "cell_type": "markdown",
   "metadata": {},
   "source": [
    "With Jaccard we look at comparing strings from a set perspective. Our elements of the set can range from characters to character or word ngrams. Deciding the atomic element will have a large impact on outcome. Character level will look similar to Levenshtein without accounting for position whereas ngrams will be closer to our cosine application that comes after.\n",
    "![jaccard_sim.png](attachment:jaccard_sim.png)"
   ]
  },
  {
   "cell_type": "code",
   "execution_count": 101,
   "metadata": {},
   "outputs": [],
   "source": [
    "def jaccard_similarity(str1, str2):\n",
    "    #simple function based on defintion\n",
    "    s1 = set(str1.split())\n",
    "    s2 = set(str2.split())\n",
    "    return float(len(s1.intersection(s2)) / len(s1.union(s2)))\n",
    "\n",
    "jac_vectorize=np.vectorize(jaccard_similarity)"
   ]
  },
  {
   "cell_type": "code",
   "execution_count": 102,
   "metadata": {},
   "outputs": [
    {
     "name": "stdout",
     "output_type": "stream",
     "text": [
      "(42, 42)\n"
     ]
    },
    {
     "data": {
      "text/plain": [
       "array([0.        , 0.5       , 0.11111111, 0.11111111, 0.11111111,\n",
       "       0.1       , 0.1       , 0.        , 0.        , 0.09090909,\n",
       "       0.        , 0.        , 0.11111111, 0.        , 0.        ,\n",
       "       0.        , 0.11111111, 0.        , 0.        , 0.09090909,\n",
       "       0.09090909, 0.        , 0.        , 0.125     , 0.11111111,\n",
       "       0.        , 0.        , 0.        , 0.        , 0.1       ,\n",
       "       0.        , 0.1       , 0.        , 0.        , 0.        ,\n",
       "       0.        , 0.11111111, 0.        , 0.09090909, 0.09090909,\n",
       "       0.        , 0.        ])"
      ]
     },
     "execution_count": 102,
     "metadata": {},
     "output_type": "execute_result"
    }
   ],
   "source": [
    "jac_matrix=squareform(pdist(test_group.values.reshape(-1,1).astype('str'),jac_vectorize)) #calculate jaccard similarity between all pairs of names\n",
    "print(jac_matrix.shape)\n",
    "jac_matrix[0,:] #similarity between 'a piece of cake events ltd' and other companies"
   ]
  },
  {
   "cell_type": "code",
   "execution_count": 130,
   "metadata": {},
   "outputs": [
    {
     "data": {
      "text/html": [
       "<div>\n",
       "<style scoped>\n",
       "    .dataframe tbody tr th:only-of-type {\n",
       "        vertical-align: middle;\n",
       "    }\n",
       "\n",
       "    .dataframe tbody tr th {\n",
       "        vertical-align: top;\n",
       "    }\n",
       "\n",
       "    .dataframe thead th {\n",
       "        text-align: right;\n",
       "    }\n",
       "</style>\n",
       "<table border=\"1\" class=\"dataframe\">\n",
       "  <thead>\n",
       "    <tr style=\"text-align: right;\">\n",
       "      <th></th>\n",
       "      <th>name1</th>\n",
       "      <th>name2</th>\n",
       "      <th>jac_similarity</th>\n",
       "    </tr>\n",
       "  </thead>\n",
       "  <tbody>\n",
       "    <tr>\n",
       "      <th>0</th>\n",
       "      <td>abacus bookkeeping &amp; payroll services ltd</td>\n",
       "      <td>abc bookkeeping &amp; payroll services ltd</td>\n",
       "      <td>0.714286</td>\n",
       "    </tr>\n",
       "    <tr>\n",
       "      <th>1</th>\n",
       "      <td>avcap specialty finance spv i ltd</td>\n",
       "      <td>avcap specialty finance spv ii ltd</td>\n",
       "      <td>0.714286</td>\n",
       "    </tr>\n",
       "  </tbody>\n",
       "</table>\n",
       "</div>"
      ],
      "text/plain": [
       "                                       name1  \\\n",
       "0  abacus bookkeeping & payroll services ltd   \n",
       "1          avcap specialty finance spv i ltd   \n",
       "\n",
       "                                    name2  jac_similarity  \n",
       "0  abc bookkeeping & payroll services ltd        0.714286  \n",
       "1      avcap specialty finance spv ii ltd        0.714286  "
      ]
     },
     "execution_count": 130,
     "metadata": {},
     "output_type": "execute_result"
    }
   ],
   "source": [
    "names=test_group.values\n",
    "rows,cols=np.where(jac_matrix-np.tri(*jac_matrix.shape)>=.7) #set threshold for which we accept the ratio\n",
    "sims=jac_matrix[rows,cols]\n",
    "pd.DataFrame(zip(names[rows],names[cols],sims),columns=['name1','name2','jac_similarity'])"
   ]
  },
  {
   "cell_type": "code",
   "execution_count": 131,
   "metadata": {},
   "outputs": [
    {
     "data": {
      "text/html": [
       "<div>\n",
       "<style scoped>\n",
       "    .dataframe tbody tr th:only-of-type {\n",
       "        vertical-align: middle;\n",
       "    }\n",
       "\n",
       "    .dataframe tbody tr th {\n",
       "        vertical-align: top;\n",
       "    }\n",
       "\n",
       "    .dataframe thead th {\n",
       "        text-align: right;\n",
       "    }\n",
       "</style>\n",
       "<table border=\"1\" class=\"dataframe\">\n",
       "  <thead>\n",
       "    <tr style=\"text-align: right;\">\n",
       "      <th></th>\n",
       "      <th>name1</th>\n",
       "      <th>name2</th>\n",
       "      <th>jac_similarity</th>\n",
       "    </tr>\n",
       "  </thead>\n",
       "  <tbody>\n",
       "    <tr>\n",
       "      <th>0</th>\n",
       "      <td>a piece of cake events ltd</td>\n",
       "      <td>a piece of cake foods limited</td>\n",
       "      <td>0.500000</td>\n",
       "    </tr>\n",
       "    <tr>\n",
       "      <th>1</th>\n",
       "      <td>abacus book keeping scotland limited</td>\n",
       "      <td>abacus book keeping company limited</td>\n",
       "      <td>0.666667</td>\n",
       "    </tr>\n",
       "    <tr>\n",
       "      <th>2</th>\n",
       "      <td>abacus bookkeeping &amp; payroll services ltd</td>\n",
       "      <td>abc bookkeeping &amp; payroll services ltd</td>\n",
       "      <td>0.714286</td>\n",
       "    </tr>\n",
       "    <tr>\n",
       "      <th>3</th>\n",
       "      <td>abacus bookkeeping uk limited</td>\n",
       "      <td>abacus bookkeeping &amp; accounts limited</td>\n",
       "      <td>0.500000</td>\n",
       "    </tr>\n",
       "    <tr>\n",
       "      <th>4</th>\n",
       "      <td>abacus bookkeeping uk limited</td>\n",
       "      <td>abacus bookkeeping london limited</td>\n",
       "      <td>0.600000</td>\n",
       "    </tr>\n",
       "    <tr>\n",
       "      <th>5</th>\n",
       "      <td>abacus bookkeeping uk limited</td>\n",
       "      <td>abacus bookkeeping services limited</td>\n",
       "      <td>0.600000</td>\n",
       "    </tr>\n",
       "    <tr>\n",
       "      <th>6</th>\n",
       "      <td>abacus bookkeeping uk limited</td>\n",
       "      <td>abacus bookkeeping solutions limited</td>\n",
       "      <td>0.600000</td>\n",
       "    </tr>\n",
       "    <tr>\n",
       "      <th>7</th>\n",
       "      <td>abacus bookkeeping &amp; accounts limited</td>\n",
       "      <td>abacus bookkeeping london limited</td>\n",
       "      <td>0.500000</td>\n",
       "    </tr>\n",
       "    <tr>\n",
       "      <th>8</th>\n",
       "      <td>abacus bookkeeping &amp; accounts limited</td>\n",
       "      <td>abacus bookkeeping services limited</td>\n",
       "      <td>0.500000</td>\n",
       "    </tr>\n",
       "    <tr>\n",
       "      <th>9</th>\n",
       "      <td>abacus bookkeeping &amp; accounts limited</td>\n",
       "      <td>abacus bookkeeping solutions limited</td>\n",
       "      <td>0.500000</td>\n",
       "    </tr>\n",
       "    <tr>\n",
       "      <th>10</th>\n",
       "      <td>abacus bookkeeping london limited</td>\n",
       "      <td>abacus bookkeeping services limited</td>\n",
       "      <td>0.600000</td>\n",
       "    </tr>\n",
       "    <tr>\n",
       "      <th>11</th>\n",
       "      <td>abacus bookkeeping london limited</td>\n",
       "      <td>abacus bookkeeping solutions limited</td>\n",
       "      <td>0.600000</td>\n",
       "    </tr>\n",
       "    <tr>\n",
       "      <th>12</th>\n",
       "      <td>abacus bookkeeping services limited</td>\n",
       "      <td>abacus bookkeeping solutions limited</td>\n",
       "      <td>0.600000</td>\n",
       "    </tr>\n",
       "    <tr>\n",
       "      <th>13</th>\n",
       "      <td>abc bookkeeping &amp; accountancy limited</td>\n",
       "      <td>abc bookkeeping &amp; accountancy uk ltd</td>\n",
       "      <td>0.571429</td>\n",
       "    </tr>\n",
       "    <tr>\n",
       "      <th>14</th>\n",
       "      <td>abc bookkeeping &amp; payroll services ltd</td>\n",
       "      <td>abc bookkeeping &amp; accountancy uk ltd</td>\n",
       "      <td>0.500000</td>\n",
       "    </tr>\n",
       "    <tr>\n",
       "      <th>15</th>\n",
       "      <td>aibs bookkeeping limited</td>\n",
       "      <td>apg bookkeeping limited</td>\n",
       "      <td>0.500000</td>\n",
       "    </tr>\n",
       "    <tr>\n",
       "      <th>16</th>\n",
       "      <td>aibs bookkeeping limited</td>\n",
       "      <td>avci bookkeeping limited</td>\n",
       "      <td>0.500000</td>\n",
       "    </tr>\n",
       "    <tr>\n",
       "      <th>17</th>\n",
       "      <td>ap csip fp gp llp</td>\n",
       "      <td>ap csip gp 1 llp</td>\n",
       "      <td>0.666667</td>\n",
       "    </tr>\n",
       "    <tr>\n",
       "      <th>18</th>\n",
       "      <td>apg bookkeeping limited</td>\n",
       "      <td>avci bookkeeping limited</td>\n",
       "      <td>0.500000</td>\n",
       "    </tr>\n",
       "    <tr>\n",
       "      <th>19</th>\n",
       "      <td>avcap specialty finance spv i ltd</td>\n",
       "      <td>avcap specialty finance spv ii ltd</td>\n",
       "      <td>0.714286</td>\n",
       "    </tr>\n",
       "  </tbody>\n",
       "</table>\n",
       "</div>"
      ],
      "text/plain": [
       "                                        name1  \\\n",
       "0                  a piece of cake events ltd   \n",
       "1        abacus book keeping scotland limited   \n",
       "2   abacus bookkeeping & payroll services ltd   \n",
       "3               abacus bookkeeping uk limited   \n",
       "4               abacus bookkeeping uk limited   \n",
       "5               abacus bookkeeping uk limited   \n",
       "6               abacus bookkeeping uk limited   \n",
       "7       abacus bookkeeping & accounts limited   \n",
       "8       abacus bookkeeping & accounts limited   \n",
       "9       abacus bookkeeping & accounts limited   \n",
       "10          abacus bookkeeping london limited   \n",
       "11          abacus bookkeeping london limited   \n",
       "12        abacus bookkeeping services limited   \n",
       "13      abc bookkeeping & accountancy limited   \n",
       "14     abc bookkeeping & payroll services ltd   \n",
       "15                   aibs bookkeeping limited   \n",
       "16                   aibs bookkeeping limited   \n",
       "17                          ap csip fp gp llp   \n",
       "18                    apg bookkeeping limited   \n",
       "19          avcap specialty finance spv i ltd   \n",
       "\n",
       "                                     name2  jac_similarity  \n",
       "0            a piece of cake foods limited        0.500000  \n",
       "1      abacus book keeping company limited        0.666667  \n",
       "2   abc bookkeeping & payroll services ltd        0.714286  \n",
       "3    abacus bookkeeping & accounts limited        0.500000  \n",
       "4        abacus bookkeeping london limited        0.600000  \n",
       "5      abacus bookkeeping services limited        0.600000  \n",
       "6     abacus bookkeeping solutions limited        0.600000  \n",
       "7        abacus bookkeeping london limited        0.500000  \n",
       "8      abacus bookkeeping services limited        0.500000  \n",
       "9     abacus bookkeeping solutions limited        0.500000  \n",
       "10     abacus bookkeeping services limited        0.600000  \n",
       "11    abacus bookkeeping solutions limited        0.600000  \n",
       "12    abacus bookkeeping solutions limited        0.600000  \n",
       "13    abc bookkeeping & accountancy uk ltd        0.571429  \n",
       "14    abc bookkeeping & accountancy uk ltd        0.500000  \n",
       "15                 apg bookkeeping limited        0.500000  \n",
       "16                avci bookkeeping limited        0.500000  \n",
       "17                        ap csip gp 1 llp        0.666667  \n",
       "18                avci bookkeeping limited        0.500000  \n",
       "19      avcap specialty finance spv ii ltd        0.714286  "
      ]
     },
     "execution_count": 131,
     "metadata": {},
     "output_type": "execute_result"
    }
   ],
   "source": [
    "names=test_group.values\n",
    "rows,cols=np.where(jac_matrix-np.tri(*jac_matrix.shape)>=.5) #set threshold for which we accept the ratio\n",
    "sims=jac_matrix[rows,cols]\n",
    "pd.DataFrame(zip(names[rows],names[cols],sims),columns=['name1','name2','jac_similarity'])"
   ]
  },
  {
   "cell_type": "markdown",
   "metadata": {},
   "source": [
    "We see how the unigram version is relatively restrictive compared to the previous algorithms and the threshold impact. Again we trade out some false positives at the cost of potential true positives. It will be in the evaluation section where we will see if it's \"worth it\"."
   ]
  },
  {
   "attachments": {
    "Cosine-similarity-Wikipedia.png": {
     "image/png": "[encoded data removed]"
    }
   },
   "cell_type": "markdown",
   "metadata": {},
   "source": [
    "## Cosine \n",
    "Instead of phonetics, string structure, or sets, we moved into euclidean space and angles. We are in the context of [vector space models](https://en.wikipedia.org/wiki/Vector_space_model). Note, Jaccard can be seen similarly with binary vectors.\n",
    "\n",
    "![Cosine-similarity-Wikipedia.png](attachment:Cosine-similarity-Wikipedia.png)"
   ]
  },
  {
   "cell_type": "code",
   "execution_count": 122,
   "metadata": {},
   "outputs": [
    {
     "data": {
      "text/plain": [
       "TfidfVectorizer(min_df=2, ngram_range=(1, 2))"
      ]
     },
     "execution_count": 122,
     "metadata": {},
     "output_type": "execute_result"
    }
   ],
   "source": [
    "from sklearn.feature_extraction.text import TfidfVectorizer \n",
    "vectorizer = TfidfVectorizer(min_df=2,ngram_range=(1, 2)) #fit tfidf model with unigram and bigrams of word-level tokens\n",
    "vectorizer.fit(clean_df['CompanyName'])"
   ]
  },
  {
   "cell_type": "code",
   "execution_count": 123,
   "metadata": {},
   "outputs": [],
   "source": [
    "X = vectorizer.transform(test_group.values)\n",
    "# print(vectorizer.get_feature_names())\n",
    "arr = X.toarray()"
   ]
  },
  {
   "cell_type": "code",
   "execution_count": 124,
   "metadata": {},
   "outputs": [
    {
     "name": "stdout",
     "output_type": "stream",
     "text": [
      "(42, 42)\n"
     ]
    },
    {
     "data": {
      "text/plain": [
       "array([0.        , 0.28077541, 0.99377143, 0.99570259, 0.99555642,\n",
       "       0.99367416, 0.99503945, 1.        , 1.        , 0.99567321,\n",
       "       1.        , 1.        , 0.99492686, 1.        , 1.        ,\n",
       "       1.        , 0.99409211, 1.        , 1.        , 0.99570341,\n",
       "       0.99585583, 1.        , 1.        , 0.99379598, 0.99379478,\n",
       "       1.        , 1.        , 1.        , 1.        , 0.99561925,\n",
       "       1.        , 0.99544584, 1.        , 1.        , 1.        ,\n",
       "       1.        , 0.99486391, 1.        , 0.9966749 , 0.99698887,\n",
       "       1.        , 1.        ])"
      ]
     },
     "execution_count": 124,
     "metadata": {},
     "output_type": "execute_result"
    }
   ],
   "source": [
    "cos_matrix=squareform(pdist(arr,metric='cosine')) #calculate cosine similarity between all pairs of names\n",
    "print(cos_matrix.shape)\n",
    "cos_matrix[0,:] #similarity between 'a piece of cake events ltd' and other companies"
   ]
  },
  {
   "cell_type": "code",
   "execution_count": 129,
   "metadata": {},
   "outputs": [
    {
     "data": {
      "text/html": [
       "<div>\n",
       "<style scoped>\n",
       "    .dataframe tbody tr th:only-of-type {\n",
       "        vertical-align: middle;\n",
       "    }\n",
       "\n",
       "    .dataframe tbody tr th {\n",
       "        vertical-align: top;\n",
       "    }\n",
       "\n",
       "    .dataframe thead th {\n",
       "        text-align: right;\n",
       "    }\n",
       "</style>\n",
       "<table border=\"1\" class=\"dataframe\">\n",
       "  <thead>\n",
       "    <tr style=\"text-align: right;\">\n",
       "      <th></th>\n",
       "      <th>name1</th>\n",
       "      <th>name2</th>\n",
       "      <th>cos_similarity</th>\n",
       "    </tr>\n",
       "  </thead>\n",
       "  <tbody>\n",
       "    <tr>\n",
       "      <th>0</th>\n",
       "      <td>a piece of cake events ltd</td>\n",
       "      <td>a piece of cake foods limited</td>\n",
       "      <td>0.719225</td>\n",
       "    </tr>\n",
       "    <tr>\n",
       "      <th>1</th>\n",
       "      <td>abacus book keeping scotland limited</td>\n",
       "      <td>abacus book keeping company limited</td>\n",
       "      <td>0.778169</td>\n",
       "    </tr>\n",
       "    <tr>\n",
       "      <th>2</th>\n",
       "      <td>abacus bookkeeping uk limited</td>\n",
       "      <td>abacus bookkeeping london limited</td>\n",
       "      <td>0.704182</td>\n",
       "    </tr>\n",
       "    <tr>\n",
       "      <th>3</th>\n",
       "      <td>abacus bookkeeping consultant ltd</td>\n",
       "      <td>abacus bookkeeping london limited</td>\n",
       "      <td>0.752178</td>\n",
       "    </tr>\n",
       "    <tr>\n",
       "      <th>4</th>\n",
       "      <td>abacus bookkeeping consultant ltd</td>\n",
       "      <td>abacus bookkeeping services limited</td>\n",
       "      <td>0.705698</td>\n",
       "    </tr>\n",
       "    <tr>\n",
       "      <th>5</th>\n",
       "      <td>abacus bookkeeping london limited</td>\n",
       "      <td>abacus bookkeeping services limited</td>\n",
       "      <td>0.773641</td>\n",
       "    </tr>\n",
       "    <tr>\n",
       "      <th>6</th>\n",
       "      <td>abacus bookkeeping london limited</td>\n",
       "      <td>abacus bookkeeping solutions limited</td>\n",
       "      <td>0.732085</td>\n",
       "    </tr>\n",
       "    <tr>\n",
       "      <th>7</th>\n",
       "      <td>abc bookkeeping &amp; accountancy limited</td>\n",
       "      <td>abc bookkeeping &amp; accountancy uk ltd</td>\n",
       "      <td>0.797182</td>\n",
       "    </tr>\n",
       "    <tr>\n",
       "      <th>8</th>\n",
       "      <td>aibs bookkeeping limited</td>\n",
       "      <td>apg bookkeeping limited</td>\n",
       "      <td>0.758641</td>\n",
       "    </tr>\n",
       "    <tr>\n",
       "      <th>9</th>\n",
       "      <td>ap csip fp gp llp</td>\n",
       "      <td>ap csip gp 1 llp</td>\n",
       "      <td>0.761086</td>\n",
       "    </tr>\n",
       "    <tr>\n",
       "      <th>10</th>\n",
       "      <td>avcap specialty finance spv i ltd</td>\n",
       "      <td>avcap specialty finance spv ii ltd</td>\n",
       "      <td>0.823660</td>\n",
       "    </tr>\n",
       "  </tbody>\n",
       "</table>\n",
       "</div>"
      ],
      "text/plain": [
       "                                    name1  \\\n",
       "0              a piece of cake events ltd   \n",
       "1    abacus book keeping scotland limited   \n",
       "2           abacus bookkeeping uk limited   \n",
       "3       abacus bookkeeping consultant ltd   \n",
       "4       abacus bookkeeping consultant ltd   \n",
       "5       abacus bookkeeping london limited   \n",
       "6       abacus bookkeeping london limited   \n",
       "7   abc bookkeeping & accountancy limited   \n",
       "8                aibs bookkeeping limited   \n",
       "9                       ap csip fp gp llp   \n",
       "10      avcap specialty finance spv i ltd   \n",
       "\n",
       "                                   name2  cos_similarity  \n",
       "0          a piece of cake foods limited        0.719225  \n",
       "1    abacus book keeping company limited        0.778169  \n",
       "2      abacus bookkeeping london limited        0.704182  \n",
       "3      abacus bookkeeping london limited        0.752178  \n",
       "4    abacus bookkeeping services limited        0.705698  \n",
       "5    abacus bookkeeping services limited        0.773641  \n",
       "6   abacus bookkeeping solutions limited        0.732085  \n",
       "7   abc bookkeeping & accountancy uk ltd        0.797182  \n",
       "8                apg bookkeeping limited        0.758641  \n",
       "9                       ap csip gp 1 llp        0.761086  \n",
       "10    avcap specialty finance spv ii ltd        0.823660  "
      ]
     },
     "execution_count": 129,
     "metadata": {},
     "output_type": "execute_result"
    }
   ],
   "source": [
    "rows,cols=np.where(cos_matrix+np.tri(*cos_matrix.shape)<=.3) #set threshold for which we accept the ratio, ignore upper triangle since matrix is symmetrc\n",
    "sims=1-cos_matrix[rows,cols]\n",
    "pd.DataFrame(zip(names[rows],names[cols],sims),columns=['name1','name2','cos_similarity'])"
   ]
  },
  {
   "cell_type": "markdown",
   "metadata": {},
   "source": [
    "We see for a threshold of .7 for similarity/.3 for distance Cosine finds more true positives than Jaccard and that the scores are a bit more \"smooth\". We also contextualize word importance and order with tfidf, no longer getting false positives through misspelling like in Levenshtein. The tradeoff is training + computation time as well as not capturing all true positives. Again we can explore character level and so on."
   ]
  },
  {
   "cell_type": "markdown",
   "metadata": {},
   "source": [
    "## Word2Vec\n",
    "\n",
    "Our final pairwise decision algorithm consideration is again a vector space model with Word2Vec. We try to add further word context with semantics to see the effect on matching.\n"
   ]
  },
  {
   "attachments": {
    "word2vec_versions.png": {
     "image/png": "[encoded data removed]"
    }
   },
   "cell_type": "markdown",
   "metadata": {},
   "source": [
    "![word2vec_versions.png](attachment:word2vec_versions.png)\n",
    "[Sourced From Alpha-Quantum Blog on Word Embeddings](https://www.alpha-quantum.com/blog/word-embeddings/introduction-to-word-embeddings-word2vec-glove-fasttext-and-elmo/)"
   ]
  },
  {
   "cell_type": "code",
   "execution_count": 162,
   "metadata": {},
   "outputs": [],
   "source": [
    "training_data=list(clean_df['CompanyName'].apply(lambda name: name.split()).values)"
   ]
  },
  {
   "cell_type": "code",
   "execution_count": 167,
   "metadata": {},
   "outputs": [],
   "source": [
    "import gensim\n",
    "from time import time\n",
    "from gensim.models.callbacks import CallbackAny2Vec\n",
    "\n",
    "class callback(CallbackAny2Vec):\n",
    "    '''Callback to print loss after each epoch.'''\n",
    "\n",
    "    def __init__(self):\n",
    "        self.epoch = 0\n",
    "        self.loss_to_be_subed = 0\n",
    "\n",
    "    def on_epoch_end(self, model):\n",
    "        loss = model.get_latest_training_loss()\n",
    "        loss_now = loss - self.loss_to_be_subed\n",
    "        self.loss_to_be_subed = loss\n",
    "        print('Loss after epoch {}: {}'.format(self.epoch, loss_now))\n",
    "        self.epoch += 1"
   ]
  },
  {
   "cell_type": "code",
   "execution_count": 168,
   "metadata": {},
   "outputs": [
    {
     "name": "stdout",
     "output_type": "stream",
     "text": [
      "Loss after epoch 0: 6028801.0\n",
      "Loss after epoch 1: 4594423.0\n",
      "Loss after epoch 2: 4293215.0\n",
      "Loss after epoch 3: 3258587.0\n",
      "Loss after epoch 4: 2489808.0\n",
      "Loss after epoch 5: 2449738.0\n",
      "Loss after epoch 6: 2396004.0\n",
      "Loss after epoch 7: 2413594.0\n",
      "Loss after epoch 8: 2416580.0\n",
      "Loss after epoch 9: 2646324.0\n",
      "2.0459153135617574\n"
     ]
    }
   ],
   "source": [
    "t=time()\n",
    "w2vModel = gensim.models.Word2Vec(\n",
    "        training_data,\n",
    "        size=160,\n",
    "        window=10,\n",
    "        min_count=2,\n",
    "        workers=4,\n",
    "        iter=10,\n",
    "        compute_loss=True, callbacks=[callback()])\n",
    "print((time()-t)/60)"
   ]
  },
  {
   "cell_type": "code",
   "execution_count": 209,
   "metadata": {},
   "outputs": [
    {
     "data": {
      "text/plain": [
       "[('ltd', 0.9625943899154663),\n",
       " ('llp', 0.6101162433624268),\n",
       " ('&', 0.5349342823028564),\n",
       " ('cic', 0.37573131918907166),\n",
       " ('optymum', 0.3586791157722473),\n",
       " ('lp', 0.33563292026519775),\n",
       " ('company', 0.3247528672218323),\n",
       " ('caterform', 0.29864197969436646),\n",
       " ('jbvt', 0.28564149141311646),\n",
       " ('mymedia', 0.2788524031639099)]"
      ]
     },
     "execution_count": 209,
     "metadata": {},
     "output_type": "execute_result"
    }
   ],
   "source": [
    "w2vModel.wv.most_similar('limited')"
   ]
  },
  {
   "cell_type": "code",
   "execution_count": 202,
   "metadata": {},
   "outputs": [],
   "source": [
    "import numpy as np\n",
    "from scipy import spatial\n",
    "\n",
    "index2word_set = set(w2vModel.wv.index2word)\n",
    "\n",
    "def avg_feature_vector(sentence, model, num_features, index2word_set):\n",
    "    words = sentence.split()\n",
    "    feature_vec = np.zeros((num_features, ), dtype='float32')\n",
    "    n_words = 0\n",
    "    for word in words:\n",
    "        if word in index2word_set:\n",
    "            n_words += 1\n",
    "            feature_vec = np.add(feature_vec, model.wv[word])\n",
    "    if (n_words > 0):\n",
    "        feature_vec = np.divide(feature_vec, n_words)\n",
    "    return feature_vec\n",
    "\n"
   ]
  },
  {
   "cell_type": "code",
   "execution_count": 206,
   "metadata": {},
   "outputs": [
    {
     "data": {
      "text/plain": [
       "0.8851425647735596"
      ]
     },
     "execution_count": 206,
     "metadata": {},
     "output_type": "execute_result"
    }
   ],
   "source": [
    "def w2v_cosine(s1,s2,model=w2vModel, num_features=160, index2word_set=index2word_set):\n",
    "    avg_vector1=avg_feature_vector(s1, model=model, num_features=num_features, index2word_set=index2word_set)\n",
    "    avg_vector2=avg_feature_vector(s2, model=model, num_features=num_features, index2word_set=index2word_set)\n",
    "    sim = 1 - spatial.distance.cosine(avg_vector1, avg_vector2)\n",
    "    return sim\n",
    "w2v_cosv=np.vectorize(w2v_cosine)\n",
    "w2v_cosine(\"a piece of cake events ltd\",\"a piece of cake foods limited\")"
   ]
  },
  {
   "cell_type": "code",
   "execution_count": 208,
   "metadata": {},
   "outputs": [
    {
     "name": "stdout",
     "output_type": "stream",
     "text": [
      "(42, 42)\n"
     ]
    },
    {
     "data": {
      "text/plain": [
       "array([0.        , 0.88514256, 0.45100793, 0.50132751, 0.42098218,\n",
       "       0.31257454, 0.42793891, 0.4645153 , 0.47364986, 0.31203294,\n",
       "       0.28019208, 0.34672418, 0.27246097, 0.33221334, 0.28422293,\n",
       "       0.23257802, 0.46813977, 0.44660375, 0.34360316, 0.33929724,\n",
       "       0.33361289, 0.49608663, 0.5409835 , 0.40025863, 0.27623069,\n",
       "       0.26788938, 0.26943791, 0.19252156, 0.2030151 , 0.32110423,\n",
       "       0.4627164 , 0.34777823, 0.45102295, 0.47615355, 0.30632022,\n",
       "       0.47600615, 0.48789477, 0.3300288 , 0.1902028 , 0.12365854,\n",
       "       0.27437574, 0.3125307 ])"
      ]
     },
     "execution_count": 208,
     "metadata": {},
     "output_type": "execute_result"
    }
   ],
   "source": [
    "w2v_matrix=squareform(pdist(test_group.values.reshape(-1,1),w2v_cosv)) #calculate ww2v cossine similarity between all pairs of names\n",
    "print(w2v_matrix.shape)\n",
    "w2v_matrix[0,:] #similarity between 'a piece of cake events ltd' and other companies"
   ]
  },
  {
   "cell_type": "code",
   "execution_count": 210,
   "metadata": {},
   "outputs": [
    {
     "data": {
      "text/html": [
       "<div>\n",
       "<style scoped>\n",
       "    .dataframe tbody tr th:only-of-type {\n",
       "        vertical-align: middle;\n",
       "    }\n",
       "\n",
       "    .dataframe tbody tr th {\n",
       "        vertical-align: top;\n",
       "    }\n",
       "\n",
       "    .dataframe thead th {\n",
       "        text-align: right;\n",
       "    }\n",
       "</style>\n",
       "<table border=\"1\" class=\"dataframe\">\n",
       "  <thead>\n",
       "    <tr style=\"text-align: right;\">\n",
       "      <th></th>\n",
       "      <th>name1</th>\n",
       "      <th>name2</th>\n",
       "      <th>w2v_cos_similarity</th>\n",
       "    </tr>\n",
       "  </thead>\n",
       "  <tbody>\n",
       "    <tr>\n",
       "      <th>0</th>\n",
       "      <td>a piece of cake events ltd</td>\n",
       "      <td>a piece of cake foods limited</td>\n",
       "      <td>0.114857</td>\n",
       "    </tr>\n",
       "    <tr>\n",
       "      <th>1</th>\n",
       "      <td>a&amp;a bespoke furniture ltd</td>\n",
       "      <td>abc bespoke qs ltd</td>\n",
       "      <td>0.192896</td>\n",
       "    </tr>\n",
       "    <tr>\n",
       "      <th>2</th>\n",
       "      <td>a&amp;a bespoke furniture ltd</td>\n",
       "      <td>ap jc bespoke joinery ltd</td>\n",
       "      <td>0.239805</td>\n",
       "    </tr>\n",
       "    <tr>\n",
       "      <th>3</th>\n",
       "      <td>a&amp;a bespoke furniture ltd</td>\n",
       "      <td>apoc bespoke limited</td>\n",
       "      <td>0.229587</td>\n",
       "    </tr>\n",
       "    <tr>\n",
       "      <th>4</th>\n",
       "      <td>a2b cabs brackley ltd</td>\n",
       "      <td>abc buchverlag limited</td>\n",
       "      <td>0.243309</td>\n",
       "    </tr>\n",
       "    <tr>\n",
       "      <th>...</th>\n",
       "      <td>...</td>\n",
       "      <td>...</td>\n",
       "      <td>...</td>\n",
       "    </tr>\n",
       "    <tr>\n",
       "      <th>114</th>\n",
       "      <td>ap csip gp 1 llp</td>\n",
       "      <td>avcap specialty finance spv ii ltd</td>\n",
       "      <td>0.269094</td>\n",
       "    </tr>\n",
       "    <tr>\n",
       "      <th>115</th>\n",
       "      <td>ap jc bespoke joinery ltd</td>\n",
       "      <td>apoc bespoke limited</td>\n",
       "      <td>0.276229</td>\n",
       "    </tr>\n",
       "    <tr>\n",
       "      <th>116</th>\n",
       "      <td>apex pe &amp; sport limited</td>\n",
       "      <td>apex vape &amp; cbd limited</td>\n",
       "      <td>0.178270</td>\n",
       "    </tr>\n",
       "    <tr>\n",
       "      <th>117</th>\n",
       "      <td>apg bookkeeping limited</td>\n",
       "      <td>avci bookkeeping limited</td>\n",
       "      <td>0.010923</td>\n",
       "    </tr>\n",
       "    <tr>\n",
       "      <th>118</th>\n",
       "      <td>avcap specialty finance spv i ltd</td>\n",
       "      <td>avcap specialty finance spv ii ltd</td>\n",
       "      <td>0.082272</td>\n",
       "    </tr>\n",
       "  </tbody>\n",
       "</table>\n",
       "<p>119 rows × 3 columns</p>\n",
       "</div>"
      ],
      "text/plain": [
       "                                 name1                               name2  \\\n",
       "0           a piece of cake events ltd       a piece of cake foods limited   \n",
       "1            a&a bespoke furniture ltd                  abc bespoke qs ltd   \n",
       "2            a&a bespoke furniture ltd           ap jc bespoke joinery ltd   \n",
       "3            a&a bespoke furniture ltd                apoc bespoke limited   \n",
       "4                a2b cabs brackley ltd              abc buchverlag limited   \n",
       "..                                 ...                                 ...   \n",
       "114                   ap csip gp 1 llp  avcap specialty finance spv ii ltd   \n",
       "115          ap jc bespoke joinery ltd                apoc bespoke limited   \n",
       "116            apex pe & sport limited             apex vape & cbd limited   \n",
       "117            apg bookkeeping limited            avci bookkeeping limited   \n",
       "118  avcap specialty finance spv i ltd  avcap specialty finance spv ii ltd   \n",
       "\n",
       "     w2v_cos_similarity  \n",
       "0              0.114857  \n",
       "1              0.192896  \n",
       "2              0.239805  \n",
       "3              0.229587  \n",
       "4              0.243309  \n",
       "..                  ...  \n",
       "114            0.269094  \n",
       "115            0.276229  \n",
       "116            0.178270  \n",
       "117            0.010923  \n",
       "118            0.082272  \n",
       "\n",
       "[119 rows x 3 columns]"
      ]
     },
     "execution_count": 210,
     "metadata": {},
     "output_type": "execute_result"
    }
   ],
   "source": [
    "rows,cols=np.where(w2v_matrix-np.tri(*w2v_matrix.shape)>=.7) #set threshold for which we accept the similarity\n",
    "sims=1-w2v_matrix[rows,cols]\n",
    "pd.DataFrame(zip(names[rows],names[cols],sims),columns=['name1','name2','w2v_cos_similarity'])"
   ]
  },
  {
   "cell_type": "markdown",
   "metadata": {},
   "source": [
    "Note we get more than Levenshtein due to semantic fuzzynness. Pro is we see flexibility between words like ltd and limited. Cons is company names with nothing to little to do with each other become seen as potential matches. We may want to try character level or [subword information](https://arxiv.org/abs/1607.04606). Moreover training time and inference time computations become more involved."
   ]
  },
  {
   "cell_type": "markdown",
   "metadata": {},
   "source": [
    "# Measurement/Evaluation"
   ]
  },
  {
   "cell_type": "markdown",
   "metadata": {},
   "source": [
    "For evaluation of a name matching solution, typically the two main pieces that are evaluated are the blocking/indexing scheme and the matching model itself. For pairwise record matching , the typical evaluation metrics used in binary classification are also found here. There are analogous metrics for measuring the blocking/indexing scheme. When grouping pairs, typically we fall under the clustering evaluation regime. For simplicity we stick to pairwise matches for now. Metrics that are critical to practical application but not mentioned here are the speed of the application and memory usage. "
   ]
  },
  {
   "attachments": {
    "Metrics_Table.png": {
     "image/png": "[encoded data removed]"
    }
   },
   "cell_type": "markdown",
   "metadata": {},
   "source": [
    "### Blocking Measures\n",
    "- **Reduction Ratio** \n",
    "- **Pair Completeness** \n",
    "\n",
    "\n",
    "### Matching Measures\n",
    "- **Precision/Pairs Quality**\n",
    "- **Recall**\n",
    "- **F1-Score**\n",
    "\n",
    "![Metrics_Table.png](attachment:Metrics_Table.png)\n",
    "\n",
    "Table from \"End-to-End Entity Resolution for Big Data: A Survey\" (2020). by CHRISTOPHIDES et. al."
   ]
  },
  {
   "cell_type": "markdown",
   "metadata": {},
   "source": [
    "As the original dataset isn't labeled, we take a toy subset from our \"test_group\" along with 3 synthetic examples and use it as an example for the metrics. We stick to Soundex for blocking, Jaccard for matching and leave computing for the rest to the reader."
   ]
  },
  {
   "cell_type": "code",
   "execution_count": 223,
   "metadata": {},
   "outputs": [
    {
     "data": {
      "text/plain": [
       "['avc i bookkeeping limited',\n",
       " 'avci bookkeeping limited',\n",
       " 'avci bookkeeping scotland ltd',\n",
       " 'ap csip fp gp llp',\n",
       " 'ap csip gp 1 llp',\n",
       " 'app chop shop ltd',\n",
       " 'ap chop limited']"
      ]
     },
     "execution_count": 223,
     "metadata": {},
     "output_type": "execute_result"
    }
   ],
   "source": [
    "golden_set=['avc i bookkeeping limited','avci bookkeeping limited','avci bookkeeping scotland ltd','ap csip fp gp llp','ap csip gp 1 llp','app chop shop ltd','ap chop limited']\n",
    "golden_set"
   ]
  },
  {
   "cell_type": "code",
   "execution_count": 231,
   "metadata": {},
   "outputs": [
    {
     "name": "stdout",
     "output_type": "stream",
     "text": [
      "Maximum number of pairwise comparisins 21\n"
     ]
    },
    {
     "data": {
      "text/html": [
       "<div>\n",
       "<style scoped>\n",
       "    .dataframe tbody tr th:only-of-type {\n",
       "        vertical-align: middle;\n",
       "    }\n",
       "\n",
       "    .dataframe tbody tr th {\n",
       "        vertical-align: top;\n",
       "    }\n",
       "\n",
       "    .dataframe thead th {\n",
       "        text-align: right;\n",
       "    }\n",
       "</style>\n",
       "<table border=\"1\" class=\"dataframe\">\n",
       "  <thead>\n",
       "    <tr style=\"text-align: right;\">\n",
       "      <th></th>\n",
       "      <th>n1</th>\n",
       "      <th>n2</th>\n",
       "      <th>match?</th>\n",
       "    </tr>\n",
       "  </thead>\n",
       "  <tbody>\n",
       "    <tr>\n",
       "      <th>0</th>\n",
       "      <td>avc i bookkeeping limited</td>\n",
       "      <td>avci bookkeeping limited</td>\n",
       "      <td>1.0</td>\n",
       "    </tr>\n",
       "    <tr>\n",
       "      <th>1</th>\n",
       "      <td>avc i bookkeeping limited</td>\n",
       "      <td>avci bookkeeping scotland ltd</td>\n",
       "      <td>1.0</td>\n",
       "    </tr>\n",
       "    <tr>\n",
       "      <th>2</th>\n",
       "      <td>avc i bookkeeping limited</td>\n",
       "      <td>ap csip fp gp llp</td>\n",
       "      <td>0.0</td>\n",
       "    </tr>\n",
       "    <tr>\n",
       "      <th>3</th>\n",
       "      <td>avc i bookkeeping limited</td>\n",
       "      <td>ap csip gp 1 llp</td>\n",
       "      <td>0.0</td>\n",
       "    </tr>\n",
       "    <tr>\n",
       "      <th>4</th>\n",
       "      <td>avc i bookkeeping limited</td>\n",
       "      <td>app chop shop ltd</td>\n",
       "      <td>0.0</td>\n",
       "    </tr>\n",
       "    <tr>\n",
       "      <th>5</th>\n",
       "      <td>avc i bookkeeping limited</td>\n",
       "      <td>ap chop limited</td>\n",
       "      <td>0.0</td>\n",
       "    </tr>\n",
       "    <tr>\n",
       "      <th>6</th>\n",
       "      <td>avci bookkeeping limited</td>\n",
       "      <td>avci bookkeeping scotland ltd</td>\n",
       "      <td>1.0</td>\n",
       "    </tr>\n",
       "    <tr>\n",
       "      <th>7</th>\n",
       "      <td>avci bookkeeping limited</td>\n",
       "      <td>ap csip fp gp llp</td>\n",
       "      <td>0.0</td>\n",
       "    </tr>\n",
       "    <tr>\n",
       "      <th>8</th>\n",
       "      <td>avci bookkeeping limited</td>\n",
       "      <td>ap csip gp 1 llp</td>\n",
       "      <td>0.0</td>\n",
       "    </tr>\n",
       "    <tr>\n",
       "      <th>9</th>\n",
       "      <td>avci bookkeeping limited</td>\n",
       "      <td>app chop shop ltd</td>\n",
       "      <td>0.0</td>\n",
       "    </tr>\n",
       "    <tr>\n",
       "      <th>10</th>\n",
       "      <td>avci bookkeeping limited</td>\n",
       "      <td>ap chop limited</td>\n",
       "      <td>0.0</td>\n",
       "    </tr>\n",
       "    <tr>\n",
       "      <th>11</th>\n",
       "      <td>avci bookkeeping scotland ltd</td>\n",
       "      <td>ap csip fp gp llp</td>\n",
       "      <td>0.0</td>\n",
       "    </tr>\n",
       "    <tr>\n",
       "      <th>12</th>\n",
       "      <td>avci bookkeeping scotland ltd</td>\n",
       "      <td>ap csip gp 1 llp</td>\n",
       "      <td>0.0</td>\n",
       "    </tr>\n",
       "    <tr>\n",
       "      <th>13</th>\n",
       "      <td>avci bookkeeping scotland ltd</td>\n",
       "      <td>app chop shop ltd</td>\n",
       "      <td>0.0</td>\n",
       "    </tr>\n",
       "    <tr>\n",
       "      <th>14</th>\n",
       "      <td>avci bookkeeping scotland ltd</td>\n",
       "      <td>ap chop limited</td>\n",
       "      <td>0.0</td>\n",
       "    </tr>\n",
       "    <tr>\n",
       "      <th>15</th>\n",
       "      <td>ap csip fp gp llp</td>\n",
       "      <td>ap csip gp 1 llp</td>\n",
       "      <td>1.0</td>\n",
       "    </tr>\n",
       "    <tr>\n",
       "      <th>16</th>\n",
       "      <td>ap csip fp gp llp</td>\n",
       "      <td>app chop shop ltd</td>\n",
       "      <td>0.0</td>\n",
       "    </tr>\n",
       "    <tr>\n",
       "      <th>17</th>\n",
       "      <td>ap csip fp gp llp</td>\n",
       "      <td>ap chop limited</td>\n",
       "      <td>0.0</td>\n",
       "    </tr>\n",
       "    <tr>\n",
       "      <th>18</th>\n",
       "      <td>ap csip gp 1 llp</td>\n",
       "      <td>app chop shop ltd</td>\n",
       "      <td>0.0</td>\n",
       "    </tr>\n",
       "    <tr>\n",
       "      <th>19</th>\n",
       "      <td>ap csip gp 1 llp</td>\n",
       "      <td>ap chop limited</td>\n",
       "      <td>0.0</td>\n",
       "    </tr>\n",
       "    <tr>\n",
       "      <th>20</th>\n",
       "      <td>app chop shop ltd</td>\n",
       "      <td>ap chop limited</td>\n",
       "      <td>1.0</td>\n",
       "    </tr>\n",
       "  </tbody>\n",
       "</table>\n",
       "</div>"
      ],
      "text/plain": [
       "                               n1                             n2  match?\n",
       "0       avc i bookkeeping limited       avci bookkeeping limited     1.0\n",
       "1       avc i bookkeeping limited  avci bookkeeping scotland ltd     1.0\n",
       "2       avc i bookkeeping limited              ap csip fp gp llp     0.0\n",
       "3       avc i bookkeeping limited               ap csip gp 1 llp     0.0\n",
       "4       avc i bookkeeping limited              app chop shop ltd     0.0\n",
       "5       avc i bookkeeping limited                ap chop limited     0.0\n",
       "6        avci bookkeeping limited  avci bookkeeping scotland ltd     1.0\n",
       "7        avci bookkeeping limited              ap csip fp gp llp     0.0\n",
       "8        avci bookkeeping limited               ap csip gp 1 llp     0.0\n",
       "9        avci bookkeeping limited              app chop shop ltd     0.0\n",
       "10       avci bookkeeping limited                ap chop limited     0.0\n",
       "11  avci bookkeeping scotland ltd              ap csip fp gp llp     0.0\n",
       "12  avci bookkeeping scotland ltd               ap csip gp 1 llp     0.0\n",
       "13  avci bookkeeping scotland ltd              app chop shop ltd     0.0\n",
       "14  avci bookkeeping scotland ltd                ap chop limited     0.0\n",
       "15              ap csip fp gp llp               ap csip gp 1 llp     1.0\n",
       "16              ap csip fp gp llp              app chop shop ltd     0.0\n",
       "17              ap csip fp gp llp                ap chop limited     0.0\n",
       "18               ap csip gp 1 llp              app chop shop ltd     0.0\n",
       "19               ap csip gp 1 llp                ap chop limited     0.0\n",
       "20              app chop shop ltd                ap chop limited     1.0"
      ]
     },
     "execution_count": 231,
     "metadata": {},
     "output_type": "execute_result"
    }
   ],
   "source": [
    "from itertools import combinations \n",
    "\n",
    "possible_pairs=list(combinations(golden_set, 2)) \n",
    "print(\"Maximum number of pairwise comparisins\",len(possible_pairs))\n",
    "match=np.zeros(len(possible_pairs))\n",
    "\n",
    "match[0]=1\n",
    "match[1]=1\n",
    "match[6]=1\n",
    "match[15]=1\n",
    "match[20]=1\n",
    "\n",
    "names_df=pd.DataFrame(golden_set,columns=['name'])\n",
    "pairs_df=pd.DataFrame(possible_pairs,columns=['n1','n2'])\n",
    "pairs_df['match?']=match\n",
    "pairs_df"
   ]
  },
  {
   "cell_type": "code",
   "execution_count": 248,
   "metadata": {},
   "outputs": [
    {
     "name": "stdout",
     "output_type": "stream",
     "text": [
      "Reduction Ratio By First Two Letters 0.5714285714285714\n",
      "Reduction Ratio By Soundex 0.2857142857142857\n"
     ]
    }
   ],
   "source": [
    "#Reduction Ratio, Comparasins Saved\n",
    "def basic_blocking_count(df,block_col):\n",
    "    nsq=nsq=df[block_col].value_counts().apply(lambda x: x**2)\n",
    "    n=df[block_col].value_counts()\n",
    "    return ((nsq-n)/2).sum()\n",
    "\n",
    "#Block by first two letters\n",
    "names_df['first2']=names_df['name'].apply(lambda name: name[:2])\n",
    "B2=basic_blocking_count(names_df,'first2')\n",
    "rrB2=1-B2/len(possible_pairs)\n",
    "print('Reduction Ratio By First Two Letters',rrB2)\n",
    "\n",
    "#Block by Soundex\n",
    "names_df['soundex']=names_df['name'].apply(lambda name: soundex(name.encode('utf-8')))\n",
    "BS=basic_blocking_count(names_df,'soundex')\n",
    "rrBS=1-BS/len(possible_pairs)\n",
    "print('Reduction Ratio By Soundex',rrBS)"
   ]
  },
  {
   "cell_type": "code",
   "execution_count": 240,
   "metadata": {},
   "outputs": [
    {
     "name": "stdout",
     "output_type": "stream",
     "text": [
      "['ap csip fp gp llp' 'ap csip gp 1 llp' 'app chop shop ltd'\n",
      " 'ap chop limited']\n",
      "['avc i bookkeeping limited' 'avci bookkeeping limited'\n",
      " 'avci bookkeeping scotland ltd']\n"
     ]
    }
   ],
   "source": [
    "grp=names_df.groupby('first2')\n",
    "for name,g in grp:\n",
    "    print(g['name'].values)"
   ]
  },
  {
   "cell_type": "code",
   "execution_count": 241,
   "metadata": {},
   "outputs": [
    {
     "name": "stdout",
     "output_type": "stream",
     "text": [
      "['avc i bookkeeping limited' 'avci bookkeeping limited'\n",
      " 'avci bookkeeping scotland ltd' 'ap csip fp gp llp' 'ap csip gp 1 llp'\n",
      " 'app chop shop ltd']\n",
      "['ap chop limited']\n"
     ]
    }
   ],
   "source": [
    "grp=names_df.groupby('soundex')\n",
    "for name,g in grp:\n",
    "    print(g['name'].values)"
   ]
  },
  {
   "cell_type": "code",
   "execution_count": 250,
   "metadata": {},
   "outputs": [
    {
     "name": "stdout",
     "output_type": "stream",
     "text": [
      "matching pairs: [['avc i bookkeeping limited' 'avci bookkeeping limited']\n",
      " ['avc i bookkeeping limited' 'avci bookkeeping scotland ltd']\n",
      " ['avci bookkeeping limited' 'avci bookkeeping scotland ltd']\n",
      " ['ap csip fp gp llp' 'ap csip gp 1 llp']\n",
      " ['app chop shop ltd' 'ap chop limited']]\n",
      "\n",
      "\n",
      "Pair Completeness By First Two Letters 1.0\n",
      "Pair Completeness By Soundex 0.8\n"
     ]
    }
   ],
   "source": [
    "#Pair Completeness, Matches in the Right Blocks\n",
    "num_true_matches=pairs_df['match?'].sum()\n",
    "matching_pairs=pairs_df[pairs_df['match?']==1][['n1','n2']].values\n",
    "print(\"matching pairs:\",matching_pairs)\n",
    "def basic_completeness(df,block_col,matching_pairs,name_col):\n",
    "    num_match=0\n",
    "    grp=df.groupby(block_col)\n",
    "    for name,g in grp:\n",
    "        for pair in matching_pairs:\n",
    "            if set(pair).issubset(set(g[name_col].values)):\n",
    "                num_match+=1\n",
    "    return num_match\n",
    "            \n",
    "pcB2=basic_completeness(names_df,'first2',matching_pairs,'name')/num_true_matches\n",
    "pcBS=basic_completeness(names_df,'soundex',matching_pairs,'name')/num_true_matches\n",
    "print('\\n')\n",
    "print('Pair Completeness By First Two Letters',pcB2)\n",
    "print('Pair Completeness By Soundex',pcBS)\n"
   ]
  },
  {
   "cell_type": "code",
   "execution_count": 253,
   "metadata": {},
   "outputs": [
    {
     "name": "stdout",
     "output_type": "stream",
     "text": [
      "H3R First 2 Letters 0.7272727272727273\n",
      "H3R Soundex 0.42105263157894735\n"
     ]
    }
   ],
   "source": [
    "#H3R\n",
    "import scipy\n",
    "print(\"H3R First 2 Letters\",scipy.stats.hmean([rrB2,pcB2]))\n",
    "print(\"H3R Soundex\",scipy.stats.hmean([rrBS,pcBS]))"
   ]
  },
  {
   "cell_type": "code",
   "execution_count": 257,
   "metadata": {},
   "outputs": [
    {
     "data": {
      "text/html": [
       "<div>\n",
       "<style scoped>\n",
       "    .dataframe tbody tr th:only-of-type {\n",
       "        vertical-align: middle;\n",
       "    }\n",
       "\n",
       "    .dataframe tbody tr th {\n",
       "        vertical-align: top;\n",
       "    }\n",
       "\n",
       "    .dataframe thead th {\n",
       "        text-align: right;\n",
       "    }\n",
       "</style>\n",
       "<table border=\"1\" class=\"dataframe\">\n",
       "  <thead>\n",
       "    <tr style=\"text-align: right;\">\n",
       "      <th></th>\n",
       "      <th>n1</th>\n",
       "      <th>n2</th>\n",
       "      <th>match?</th>\n",
       "      <th>Jac_Sim</th>\n",
       "      <th>50pct_Thresh</th>\n",
       "    </tr>\n",
       "  </thead>\n",
       "  <tbody>\n",
       "    <tr>\n",
       "      <th>0</th>\n",
       "      <td>avc i bookkeeping limited</td>\n",
       "      <td>avci bookkeeping limited</td>\n",
       "      <td>1.0</td>\n",
       "      <td>0.400000</td>\n",
       "      <td>0</td>\n",
       "    </tr>\n",
       "    <tr>\n",
       "      <th>1</th>\n",
       "      <td>avc i bookkeeping limited</td>\n",
       "      <td>avci bookkeeping scotland ltd</td>\n",
       "      <td>1.0</td>\n",
       "      <td>0.142857</td>\n",
       "      <td>0</td>\n",
       "    </tr>\n",
       "    <tr>\n",
       "      <th>2</th>\n",
       "      <td>avc i bookkeeping limited</td>\n",
       "      <td>ap csip fp gp llp</td>\n",
       "      <td>0.0</td>\n",
       "      <td>0.000000</td>\n",
       "      <td>0</td>\n",
       "    </tr>\n",
       "    <tr>\n",
       "      <th>3</th>\n",
       "      <td>avc i bookkeeping limited</td>\n",
       "      <td>ap csip gp 1 llp</td>\n",
       "      <td>0.0</td>\n",
       "      <td>0.000000</td>\n",
       "      <td>0</td>\n",
       "    </tr>\n",
       "    <tr>\n",
       "      <th>4</th>\n",
       "      <td>avc i bookkeeping limited</td>\n",
       "      <td>app chop shop ltd</td>\n",
       "      <td>0.0</td>\n",
       "      <td>0.000000</td>\n",
       "      <td>0</td>\n",
       "    </tr>\n",
       "    <tr>\n",
       "      <th>5</th>\n",
       "      <td>avc i bookkeeping limited</td>\n",
       "      <td>ap chop limited</td>\n",
       "      <td>0.0</td>\n",
       "      <td>0.166667</td>\n",
       "      <td>0</td>\n",
       "    </tr>\n",
       "    <tr>\n",
       "      <th>6</th>\n",
       "      <td>avci bookkeeping limited</td>\n",
       "      <td>avci bookkeeping scotland ltd</td>\n",
       "      <td>1.0</td>\n",
       "      <td>0.400000</td>\n",
       "      <td>0</td>\n",
       "    </tr>\n",
       "    <tr>\n",
       "      <th>7</th>\n",
       "      <td>avci bookkeeping limited</td>\n",
       "      <td>ap csip fp gp llp</td>\n",
       "      <td>0.0</td>\n",
       "      <td>0.000000</td>\n",
       "      <td>0</td>\n",
       "    </tr>\n",
       "    <tr>\n",
       "      <th>8</th>\n",
       "      <td>avci bookkeeping limited</td>\n",
       "      <td>ap csip gp 1 llp</td>\n",
       "      <td>0.0</td>\n",
       "      <td>0.000000</td>\n",
       "      <td>0</td>\n",
       "    </tr>\n",
       "    <tr>\n",
       "      <th>9</th>\n",
       "      <td>avci bookkeeping limited</td>\n",
       "      <td>app chop shop ltd</td>\n",
       "      <td>0.0</td>\n",
       "      <td>0.000000</td>\n",
       "      <td>0</td>\n",
       "    </tr>\n",
       "    <tr>\n",
       "      <th>10</th>\n",
       "      <td>avci bookkeeping limited</td>\n",
       "      <td>ap chop limited</td>\n",
       "      <td>0.0</td>\n",
       "      <td>0.200000</td>\n",
       "      <td>0</td>\n",
       "    </tr>\n",
       "    <tr>\n",
       "      <th>11</th>\n",
       "      <td>avci bookkeeping scotland ltd</td>\n",
       "      <td>ap csip fp gp llp</td>\n",
       "      <td>0.0</td>\n",
       "      <td>0.000000</td>\n",
       "      <td>0</td>\n",
       "    </tr>\n",
       "    <tr>\n",
       "      <th>12</th>\n",
       "      <td>avci bookkeeping scotland ltd</td>\n",
       "      <td>ap csip gp 1 llp</td>\n",
       "      <td>0.0</td>\n",
       "      <td>0.000000</td>\n",
       "      <td>0</td>\n",
       "    </tr>\n",
       "    <tr>\n",
       "      <th>13</th>\n",
       "      <td>avci bookkeeping scotland ltd</td>\n",
       "      <td>app chop shop ltd</td>\n",
       "      <td>0.0</td>\n",
       "      <td>0.142857</td>\n",
       "      <td>0</td>\n",
       "    </tr>\n",
       "    <tr>\n",
       "      <th>14</th>\n",
       "      <td>avci bookkeeping scotland ltd</td>\n",
       "      <td>ap chop limited</td>\n",
       "      <td>0.0</td>\n",
       "      <td>0.000000</td>\n",
       "      <td>0</td>\n",
       "    </tr>\n",
       "    <tr>\n",
       "      <th>15</th>\n",
       "      <td>ap csip fp gp llp</td>\n",
       "      <td>ap csip gp 1 llp</td>\n",
       "      <td>1.0</td>\n",
       "      <td>0.666667</td>\n",
       "      <td>1</td>\n",
       "    </tr>\n",
       "    <tr>\n",
       "      <th>16</th>\n",
       "      <td>ap csip fp gp llp</td>\n",
       "      <td>app chop shop ltd</td>\n",
       "      <td>0.0</td>\n",
       "      <td>0.000000</td>\n",
       "      <td>0</td>\n",
       "    </tr>\n",
       "    <tr>\n",
       "      <th>17</th>\n",
       "      <td>ap csip fp gp llp</td>\n",
       "      <td>ap chop limited</td>\n",
       "      <td>0.0</td>\n",
       "      <td>0.142857</td>\n",
       "      <td>0</td>\n",
       "    </tr>\n",
       "    <tr>\n",
       "      <th>18</th>\n",
       "      <td>ap csip gp 1 llp</td>\n",
       "      <td>app chop shop ltd</td>\n",
       "      <td>0.0</td>\n",
       "      <td>0.000000</td>\n",
       "      <td>0</td>\n",
       "    </tr>\n",
       "    <tr>\n",
       "      <th>19</th>\n",
       "      <td>ap csip gp 1 llp</td>\n",
       "      <td>ap chop limited</td>\n",
       "      <td>0.0</td>\n",
       "      <td>0.142857</td>\n",
       "      <td>0</td>\n",
       "    </tr>\n",
       "    <tr>\n",
       "      <th>20</th>\n",
       "      <td>app chop shop ltd</td>\n",
       "      <td>ap chop limited</td>\n",
       "      <td>1.0</td>\n",
       "      <td>0.166667</td>\n",
       "      <td>0</td>\n",
       "    </tr>\n",
       "  </tbody>\n",
       "</table>\n",
       "</div>"
      ],
      "text/plain": [
       "                               n1                             n2  match?  \\\n",
       "0       avc i bookkeeping limited       avci bookkeeping limited     1.0   \n",
       "1       avc i bookkeeping limited  avci bookkeeping scotland ltd     1.0   \n",
       "2       avc i bookkeeping limited              ap csip fp gp llp     0.0   \n",
       "3       avc i bookkeeping limited               ap csip gp 1 llp     0.0   \n",
       "4       avc i bookkeeping limited              app chop shop ltd     0.0   \n",
       "5       avc i bookkeeping limited                ap chop limited     0.0   \n",
       "6        avci bookkeeping limited  avci bookkeeping scotland ltd     1.0   \n",
       "7        avci bookkeeping limited              ap csip fp gp llp     0.0   \n",
       "8        avci bookkeeping limited               ap csip gp 1 llp     0.0   \n",
       "9        avci bookkeeping limited              app chop shop ltd     0.0   \n",
       "10       avci bookkeeping limited                ap chop limited     0.0   \n",
       "11  avci bookkeeping scotland ltd              ap csip fp gp llp     0.0   \n",
       "12  avci bookkeeping scotland ltd               ap csip gp 1 llp     0.0   \n",
       "13  avci bookkeeping scotland ltd              app chop shop ltd     0.0   \n",
       "14  avci bookkeeping scotland ltd                ap chop limited     0.0   \n",
       "15              ap csip fp gp llp               ap csip gp 1 llp     1.0   \n",
       "16              ap csip fp gp llp              app chop shop ltd     0.0   \n",
       "17              ap csip fp gp llp                ap chop limited     0.0   \n",
       "18               ap csip gp 1 llp              app chop shop ltd     0.0   \n",
       "19               ap csip gp 1 llp                ap chop limited     0.0   \n",
       "20              app chop shop ltd                ap chop limited     1.0   \n",
       "\n",
       "     Jac_Sim  50pct_Thresh  \n",
       "0   0.400000             0  \n",
       "1   0.142857             0  \n",
       "2   0.000000             0  \n",
       "3   0.000000             0  \n",
       "4   0.000000             0  \n",
       "5   0.166667             0  \n",
       "6   0.400000             0  \n",
       "7   0.000000             0  \n",
       "8   0.000000             0  \n",
       "9   0.000000             0  \n",
       "10  0.200000             0  \n",
       "11  0.000000             0  \n",
       "12  0.000000             0  \n",
       "13  0.142857             0  \n",
       "14  0.000000             0  \n",
       "15  0.666667             1  \n",
       "16  0.000000             0  \n",
       "17  0.142857             0  \n",
       "18  0.000000             0  \n",
       "19  0.142857             0  \n",
       "20  0.166667             0  "
      ]
     },
     "execution_count": 257,
     "metadata": {},
     "output_type": "execute_result"
    }
   ],
   "source": [
    "#We ignore blocking and do the full number of comparasins to see standalone performance\n",
    "pairs_df['Jac_Sim']=pairs_df.apply(lambda row: jaccard_similarity(row['n1'],row['n2']),axis=1)\n",
    "pairs_df['50pct_Thresh']=pairs_df['Jac_Sim'].apply(lambda s: 1 if s>=.5 else 0)\n",
    "pairs_df"
   ]
  },
  {
   "cell_type": "code",
   "execution_count": 259,
   "metadata": {},
   "outputs": [
    {
     "name": "stdout",
     "output_type": "stream",
     "text": [
      "Precision Jaccard 1.0\n",
      "Recall Jaccard 0.2\n",
      "F1 Jaccard 0.33333333333333337\n"
     ]
    }
   ],
   "source": [
    "from sklearn.metrics import recall_score,precision_score,f1_score\n",
    "print(\"Precision Jaccard:\",precision_score(pairs_df['match?'],pairs_df['50pct_Thresh']))\n",
    "print(\"Recall Jaccard:\",recall_score(pairs_df['match?'],pairs_df['50pct_Thresh']))\n",
    "print(\"F1 Jaccard:\",f1_score(pairs_df['match?'],pairs_df['50pct_Thresh']))"
   ]
  },
  {
   "cell_type": "markdown",
   "metadata": {},
   "source": [
    "# Limitations/Other Practical Considerations"
   ]
  },
  {
   "cell_type": "markdown",
   "metadata": {},
   "source": [
    "There are quite a few other topics that branch off from this introduction on name matching. Some major ones worth mentioning that we didn't explore:\n",
    "\n",
    "- matching on multiple fields, validity and weighting evidence\n",
    "- multiple data sources normalization/column matching\n",
    "- runtime and scalability, parallelizing and distributing these algorithms\n",
    "- ensemble/layered methods that combine the algorithms at different steps\n",
    "- machine learning to learn blocking/indexing rules\n",
    "- graph approaches to matching\n",
    "- unsupervised/unlabeled evaluation\n",
    "- consolidating pairs into groups via clustering/aggregating knowledge graphs, etc\n",
    "- deep learning methods on name matching (note: while accurate they usually end up being academic or at the final layer of a matching system)"
   ]
  }
 ],
 "metadata": {
  "kernelspec": {
   "display_name": "Python 3",
   "language": "python",
   "name": "python3"
  },
  "language_info": {
   "codemirror_mode": {
    "name": "ipython",
    "version": 3
   },
   "file_extension": ".py",
   "mimetype": "text/x-python",
   "name": "python",
   "nbconvert_exporter": "python",
   "pygments_lexer": "ipython3",
   "version": "3.7.2"
  }
 },
 "nbformat": 4,
 "nbformat_minor": 4
}
